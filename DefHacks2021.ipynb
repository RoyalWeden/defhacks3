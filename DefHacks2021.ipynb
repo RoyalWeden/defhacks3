{
  "nbformat": 4,
  "nbformat_minor": 0,
  "metadata": {
    "colab": {
      "name": "DefHacks2021.ipynb",
      "provenance": [],
      "authorship_tag": "ABX9TyMNoOb6bVkMc5G+Gr8yICLk",
      "include_colab_link": true
    },
    "kernelspec": {
      "name": "python3",
      "display_name": "Python 3.9.5 64-bit ('venv': venv)"
    },
    "language_info": {
      "name": "python",
      "version": "3.9.5"
    },
    "interpreter": {
      "hash": "7d80fdf0083c01587350152dc4a281a16ba35b160801fde8eed872325092bb78"
    }
  },
  "cells": [
    {
      "cell_type": "markdown",
      "metadata": {
        "id": "view-in-github",
        "colab_type": "text"
      },
      "source": [
        "<a href=\"https://colab.research.google.com/github/RoyalWeden/defhacks3/blob/main/DefHacks2021.ipynb\" target=\"_parent\"><img src=\"https://colab.research.google.com/assets/colab-badge.svg\" alt=\"Open In Colab\"/></a>"
      ]
    },
    {
      "cell_type": "markdown",
      "metadata": {
        "id": "ohsCiltAgLLM"
      },
      "source": [
        "Dataset: https://www.kaggle.com/davinwijaya/employee-turnover"
      ]
    },
    {
      "cell_type": "code",
      "metadata": {
        "colab": {
          "resources": {
            "http://localhost:8080/nbextensions/google.colab/files.js": {
              "data": "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",
              "ok": true,
              "headers": [
                [
                  "content-type",
                  "application/javascript"
                ]
              ],
              "status": 200,
              "status_text": ""
            }
          },
          "base_uri": "https://localhost:8080/",
          "height": 91
        },
        "id": "lb3_6uCwdu09",
        "outputId": "b45c5161-e4d0-4d08-d1ec-503f00f5c402"
      },
      "source": [
        "from google.colab import files\n",
        "\n",
        "uploaded = files.upload()\n",
        "\n",
        "for fn in uploaded.keys():\n",
        "  print('User uploaded file \"{name}\" with length {length} bytes'.format(\n",
        "      name=fn, length=len(uploaded[fn])))\n",
        "  \n",
        "# Then move kaggle.json into the folder where the API expects to find it.\n",
        "!mkdir -p ~/.kaggle/ && mv kaggle.json ~/.kaggle/ && chmod 600 ~/.kaggle/kaggle.json"
      ],
      "execution_count": 1,
      "outputs": [
        {
          "output_type": "display_data",
          "data": {
            "text/html": [
              "\n",
              "     <input type=\"file\" id=\"files-bbef9316-dadb-46fb-8f63-faf40fe122c0\" name=\"files[]\" multiple disabled\n",
              "        style=\"border:none\" />\n",
              "     <output id=\"result-bbef9316-dadb-46fb-8f63-faf40fe122c0\">\n",
              "      Upload widget is only available when the cell has been executed in the\n",
              "      current browser session. Please rerun this cell to enable.\n",
              "      </output>\n",
              "      <script src=\"/nbextensions/google.colab/files.js\"></script> "
            ],
            "text/plain": [
              "<IPython.core.display.HTML object>"
            ]
          },
          "metadata": {
            "tags": []
          }
        },
        {
          "output_type": "stream",
          "text": [
            "Saving kaggle.json to kaggle.json\n",
            "User uploaded file \"kaggle.json\" with length 66 bytes\n"
          ],
          "name": "stdout"
        }
      ]
    },
    {
      "cell_type": "code",
      "metadata": {
        "colab": {
          "base_uri": "https://localhost:8080/"
        },
        "id": "Jet1L-uKeI1R",
        "outputId": "b7f04d94-17a8-4dfa-a398-3a05bfa1f12b"
      },
      "source": [
        "!kaggle datasets download -d davinwijaya/employee-turnover"
      ],
      "execution_count": 2,
      "outputs": [
        {
          "output_type": "stream",
          "text": [
            "Downloading employee-turnover.zip to /content\n",
            "\r  0% 0.00/17.3k [00:00<?, ?B/s]\n",
            "\r100% 17.3k/17.3k [00:00<00:00, 14.6MB/s]\n"
          ],
          "name": "stdout"
        }
      ]
    },
    {
      "cell_type": "code",
      "metadata": {
        "colab": {
          "base_uri": "https://localhost:8080/"
        },
        "id": "qIWdV-XneTS7",
        "outputId": "562eb10c-2ac9-4bd5-8b4a-17fbb1d4f530"
      },
      "source": [
        "!unzip employee-turnover.zip"
      ],
      "execution_count": 3,
      "outputs": [
        {
          "output_type": "stream",
          "text": [
            "Archive:  employee-turnover.zip\n",
            "  inflating: turnover.csv            \n"
          ],
          "name": "stdout"
        }
      ]
    },
    {
      "cell_type": "code",
      "metadata": {
        "id": "bkcDXn6PefUn"
      },
      "source": [
        "import pandas as pd"
      ],
      "execution_count": 1,
      "outputs": []
    },
    {
      "cell_type": "code",
      "metadata": {
        "colab": {
          "base_uri": "https://localhost:8080/",
          "height": 222
        },
        "id": "VyVUgWxhekOV",
        "outputId": "f0683a0a-1317-43ed-c11d-d89402712456"
      },
      "source": [
        "df = pd.read_csv('data/turnover.csv', encoding = \"ISO-8859-1\")\n",
        "df.head()"
      ],
      "execution_count": 2,
      "outputs": [
        {
          "output_type": "execute_result",
          "data": {
            "text/plain": [
              "        stag  event gender   age         industry  profession      traffic  \\\n",
              "0   7.030801      1      m  35.0            Banks          HR  rabrecNErab   \n",
              "1  22.965092      1      m  33.0            Banks          HR        empjs   \n",
              "2  15.934292      1      f  35.0  PowerGeneration          HR  rabrecNErab   \n",
              "3  15.934292      1      f  35.0  PowerGeneration          HR  rabrecNErab   \n",
              "4   8.410678      1      m  32.0           Retail  Commercial        youjs   \n",
              "\n",
              "  coach head_gender greywage  way  extraversion  independ  selfcontrol  \\\n",
              "0    no           f    white  bus           6.2       4.1          5.7   \n",
              "1    no           m    white  bus           6.2       4.1          5.7   \n",
              "2    no           m    white  bus           6.2       6.2          2.6   \n",
              "3    no           m    white  bus           5.4       7.6          4.9   \n",
              "4   yes           f    white  bus           3.0       4.1          8.0   \n",
              "\n",
              "   anxiety  novator  \n",
              "0      7.1      8.3  \n",
              "1      7.1      8.3  \n",
              "2      4.8      8.3  \n",
              "3      2.5      6.7  \n",
              "4      7.1      3.7  "
            ],
            "text/html": "<div>\n<style scoped>\n    .dataframe tbody tr th:only-of-type {\n        vertical-align: middle;\n    }\n\n    .dataframe tbody tr th {\n        vertical-align: top;\n    }\n\n    .dataframe thead th {\n        text-align: right;\n    }\n</style>\n<table border=\"1\" class=\"dataframe\">\n  <thead>\n    <tr style=\"text-align: right;\">\n      <th></th>\n      <th>stag</th>\n      <th>event</th>\n      <th>gender</th>\n      <th>age</th>\n      <th>industry</th>\n      <th>profession</th>\n      <th>traffic</th>\n      <th>coach</th>\n      <th>head_gender</th>\n      <th>greywage</th>\n      <th>way</th>\n      <th>extraversion</th>\n      <th>independ</th>\n      <th>selfcontrol</th>\n      <th>anxiety</th>\n      <th>novator</th>\n    </tr>\n  </thead>\n  <tbody>\n    <tr>\n      <th>0</th>\n      <td>7.030801</td>\n      <td>1</td>\n      <td>m</td>\n      <td>35.0</td>\n      <td>Banks</td>\n      <td>HR</td>\n      <td>rabrecNErab</td>\n      <td>no</td>\n      <td>f</td>\n      <td>white</td>\n      <td>bus</td>\n      <td>6.2</td>\n      <td>4.1</td>\n      <td>5.7</td>\n      <td>7.1</td>\n      <td>8.3</td>\n    </tr>\n    <tr>\n      <th>1</th>\n      <td>22.965092</td>\n      <td>1</td>\n      <td>m</td>\n      <td>33.0</td>\n      <td>Banks</td>\n      <td>HR</td>\n      <td>empjs</td>\n      <td>no</td>\n      <td>m</td>\n      <td>white</td>\n      <td>bus</td>\n      <td>6.2</td>\n      <td>4.1</td>\n      <td>5.7</td>\n      <td>7.1</td>\n      <td>8.3</td>\n    </tr>\n    <tr>\n      <th>2</th>\n      <td>15.934292</td>\n      <td>1</td>\n      <td>f</td>\n      <td>35.0</td>\n      <td>PowerGeneration</td>\n      <td>HR</td>\n      <td>rabrecNErab</td>\n      <td>no</td>\n      <td>m</td>\n      <td>white</td>\n      <td>bus</td>\n      <td>6.2</td>\n      <td>6.2</td>\n      <td>2.6</td>\n      <td>4.8</td>\n      <td>8.3</td>\n    </tr>\n    <tr>\n      <th>3</th>\n      <td>15.934292</td>\n      <td>1</td>\n      <td>f</td>\n      <td>35.0</td>\n      <td>PowerGeneration</td>\n      <td>HR</td>\n      <td>rabrecNErab</td>\n      <td>no</td>\n      <td>m</td>\n      <td>white</td>\n      <td>bus</td>\n      <td>5.4</td>\n      <td>7.6</td>\n      <td>4.9</td>\n      <td>2.5</td>\n      <td>6.7</td>\n    </tr>\n    <tr>\n      <th>4</th>\n      <td>8.410678</td>\n      <td>1</td>\n      <td>m</td>\n      <td>32.0</td>\n      <td>Retail</td>\n      <td>Commercial</td>\n      <td>youjs</td>\n      <td>yes</td>\n      <td>f</td>\n      <td>white</td>\n      <td>bus</td>\n      <td>3.0</td>\n      <td>4.1</td>\n      <td>8.0</td>\n      <td>7.1</td>\n      <td>3.7</td>\n    </tr>\n  </tbody>\n</table>\n</div>"
          },
          "metadata": {},
          "execution_count": 2
        }
      ]
    },
    {
      "cell_type": "code",
      "metadata": {
        "colab": {
          "base_uri": "https://localhost:8080/"
        },
        "id": "HkvxFIIigEgc",
        "outputId": "8975997a-b232-4ec9-f1fd-395a688b66f0"
      },
      "source": [
        "df.shape"
      ],
      "execution_count": 3,
      "outputs": [
        {
          "output_type": "execute_result",
          "data": {
            "text/plain": [
              "(1129, 16)"
            ]
          },
          "metadata": {},
          "execution_count": 3
        }
      ]
    },
    {
      "cell_type": "code",
      "metadata": {
        "colab": {
          "base_uri": "https://localhost:8080/"
        },
        "id": "ejs4sbLhgF1V",
        "outputId": "653d1ff8-593d-4ce3-cc46-b0f494ae9365"
      },
      "source": [
        "df = df[df.event == 1]\n",
        "df.shape"
      ],
      "execution_count": 4,
      "outputs": [
        {
          "output_type": "execute_result",
          "data": {
            "text/plain": [
              "(571, 16)"
            ]
          },
          "metadata": {},
          "execution_count": 4
        }
      ]
    },
    {
      "cell_type": "code",
      "metadata": {
        "colab": {
          "base_uri": "https://localhost:8080/",
          "height": 222
        },
        "id": "ANxUxeLPhTiI",
        "outputId": "5cb3df1a-bbc7-48f9-8365-b7e4221b861b"
      },
      "source": [
        "df = df.drop(columns=['event'])\n",
        "df.head()"
      ],
      "execution_count": 8,
      "outputs": [
        {
          "output_type": "execute_result",
          "data": {
            "text/html": [
              "<div>\n",
              "<style scoped>\n",
              "    .dataframe tbody tr th:only-of-type {\n",
              "        vertical-align: middle;\n",
              "    }\n",
              "\n",
              "    .dataframe tbody tr th {\n",
              "        vertical-align: top;\n",
              "    }\n",
              "\n",
              "    .dataframe thead th {\n",
              "        text-align: right;\n",
              "    }\n",
              "</style>\n",
              "<table border=\"1\" class=\"dataframe\">\n",
              "  <thead>\n",
              "    <tr style=\"text-align: right;\">\n",
              "      <th></th>\n",
              "      <th>stag</th>\n",
              "      <th>gender</th>\n",
              "      <th>age</th>\n",
              "      <th>industry</th>\n",
              "      <th>profession</th>\n",
              "      <th>traffic</th>\n",
              "      <th>coach</th>\n",
              "      <th>head_gender</th>\n",
              "      <th>greywage</th>\n",
              "      <th>way</th>\n",
              "      <th>extraversion</th>\n",
              "      <th>independ</th>\n",
              "      <th>selfcontrol</th>\n",
              "      <th>anxiety</th>\n",
              "      <th>novator</th>\n",
              "    </tr>\n",
              "  </thead>\n",
              "  <tbody>\n",
              "    <tr>\n",
              "      <th>0</th>\n",
              "      <td>7.030801</td>\n",
              "      <td>m</td>\n",
              "      <td>35.0</td>\n",
              "      <td>Banks</td>\n",
              "      <td>HR</td>\n",
              "      <td>rabrecNErab</td>\n",
              "      <td>no</td>\n",
              "      <td>f</td>\n",
              "      <td>white</td>\n",
              "      <td>bus</td>\n",
              "      <td>6.2</td>\n",
              "      <td>4.1</td>\n",
              "      <td>5.7</td>\n",
              "      <td>7.1</td>\n",
              "      <td>8.3</td>\n",
              "    </tr>\n",
              "    <tr>\n",
              "      <th>1</th>\n",
              "      <td>22.965092</td>\n",
              "      <td>m</td>\n",
              "      <td>33.0</td>\n",
              "      <td>Banks</td>\n",
              "      <td>HR</td>\n",
              "      <td>empjs</td>\n",
              "      <td>no</td>\n",
              "      <td>m</td>\n",
              "      <td>white</td>\n",
              "      <td>bus</td>\n",
              "      <td>6.2</td>\n",
              "      <td>4.1</td>\n",
              "      <td>5.7</td>\n",
              "      <td>7.1</td>\n",
              "      <td>8.3</td>\n",
              "    </tr>\n",
              "    <tr>\n",
              "      <th>2</th>\n",
              "      <td>15.934292</td>\n",
              "      <td>f</td>\n",
              "      <td>35.0</td>\n",
              "      <td>PowerGeneration</td>\n",
              "      <td>HR</td>\n",
              "      <td>rabrecNErab</td>\n",
              "      <td>no</td>\n",
              "      <td>m</td>\n",
              "      <td>white</td>\n",
              "      <td>bus</td>\n",
              "      <td>6.2</td>\n",
              "      <td>6.2</td>\n",
              "      <td>2.6</td>\n",
              "      <td>4.8</td>\n",
              "      <td>8.3</td>\n",
              "    </tr>\n",
              "    <tr>\n",
              "      <th>3</th>\n",
              "      <td>15.934292</td>\n",
              "      <td>f</td>\n",
              "      <td>35.0</td>\n",
              "      <td>PowerGeneration</td>\n",
              "      <td>HR</td>\n",
              "      <td>rabrecNErab</td>\n",
              "      <td>no</td>\n",
              "      <td>m</td>\n",
              "      <td>white</td>\n",
              "      <td>bus</td>\n",
              "      <td>5.4</td>\n",
              "      <td>7.6</td>\n",
              "      <td>4.9</td>\n",
              "      <td>2.5</td>\n",
              "      <td>6.7</td>\n",
              "    </tr>\n",
              "    <tr>\n",
              "      <th>4</th>\n",
              "      <td>8.410678</td>\n",
              "      <td>m</td>\n",
              "      <td>32.0</td>\n",
              "      <td>Retail</td>\n",
              "      <td>Commercial</td>\n",
              "      <td>youjs</td>\n",
              "      <td>yes</td>\n",
              "      <td>f</td>\n",
              "      <td>white</td>\n",
              "      <td>bus</td>\n",
              "      <td>3.0</td>\n",
              "      <td>4.1</td>\n",
              "      <td>8.0</td>\n",
              "      <td>7.1</td>\n",
              "      <td>3.7</td>\n",
              "    </tr>\n",
              "  </tbody>\n",
              "</table>\n",
              "</div>"
            ],
            "text/plain": [
              "        stag gender   age  ... selfcontrol anxiety novator\n",
              "0   7.030801      m  35.0  ...         5.7     7.1     8.3\n",
              "1  22.965092      m  33.0  ...         5.7     7.1     8.3\n",
              "2  15.934292      f  35.0  ...         2.6     4.8     8.3\n",
              "3  15.934292      f  35.0  ...         4.9     2.5     6.7\n",
              "4   8.410678      m  32.0  ...         8.0     7.1     3.7\n",
              "\n",
              "[5 rows x 15 columns]"
            ]
          },
          "metadata": {
            "tags": []
          },
          "execution_count": 8
        }
      ]
    },
    {
      "cell_type": "code",
      "metadata": {
        "colab": {
          "base_uri": "https://localhost:8080/"
        },
        "id": "w7RI6EfMgurv",
        "outputId": "15968458-adcf-4d2f-f41c-2cac94d65ecd"
      },
      "source": [
        "df.isna().sum()"
      ],
      "execution_count": 5,
      "outputs": [
        {
          "output_type": "execute_result",
          "data": {
            "text/plain": [
              "stag            0\n",
              "event           0\n",
              "gender          0\n",
              "age             0\n",
              "industry        0\n",
              "profession      0\n",
              "traffic         0\n",
              "coach           0\n",
              "head_gender     0\n",
              "greywage        0\n",
              "way             0\n",
              "extraversion    0\n",
              "independ        0\n",
              "selfcontrol     0\n",
              "anxiety         0\n",
              "novator         0\n",
              "dtype: int64"
            ]
          },
          "metadata": {},
          "execution_count": 5
        }
      ]
    },
    {
      "cell_type": "code",
      "metadata": {
        "id": "_g34sFnLgx54"
      },
      "source": [
        "from sklearn.preprocessing import OneHotEncoder, StandardScaler"
      ],
      "execution_count": 6,
      "outputs": []
    },
    {
      "cell_type": "code",
      "metadata": {
        "id": "V6ZEt_fthjC2"
      },
      "source": [
        "enc = OneHotEncoder()"
      ],
      "execution_count": 7,
      "outputs": []
    },
    {
      "cell_type": "code",
      "metadata": {
        "colab": {
          "base_uri": "https://localhost:8080/"
        },
        "id": "_KZB8K_ehoIv",
        "outputId": "e4b6545a-b36e-4290-bafa-0e68e4e03e5c"
      },
      "source": [
        "enc.fit(df[['industry', 'profession', 'traffic', 'way']])"
      ],
      "execution_count": 8,
      "outputs": [
        {
          "output_type": "execute_result",
          "data": {
            "text/plain": [
              "OneHotEncoder()"
            ]
          },
          "metadata": {},
          "execution_count": 8
        }
      ]
    },
    {
      "cell_type": "code",
      "metadata": {
        "colab": {
          "base_uri": "https://localhost:8080/"
        },
        "id": "BTmU8n-uiS8w",
        "outputId": "0cc411b9-106f-4044-d179-88c6e8b10056"
      },
      "source": [
        "enc.categories_"
      ],
      "execution_count": 9,
      "outputs": [
        {
          "output_type": "execute_result",
          "data": {
            "text/plain": [
              "[array([' HoReCa', 'Agriculture', 'Banks', 'Building', 'Consult', 'IT',\n",
              "        'Mining', 'Pharma', 'PowerGeneration', 'RealEstate', 'Retail',\n",
              "        'State', 'Telecom', 'etc', 'manufacture', 'transport'],\n",
              "       dtype=object),\n",
              " array(['Accounting', 'BusinessDevelopment', 'Commercial', 'Consult',\n",
              "        'Engineer', 'Finanñe', 'HR', 'IT', 'Law', 'Marketing', 'PR',\n",
              "        'Sales', 'Teaching', 'etc', 'manage'], dtype=object),\n",
              " array(['KA', 'advert', 'empjs', 'friends', 'rabrecNErab', 'recNErab',\n",
              "        'referal', 'youjs'], dtype=object),\n",
              " array(['bus', 'car', 'foot'], dtype=object)]"
            ]
          },
          "metadata": {},
          "execution_count": 9
        }
      ]
    },
    {
      "cell_type": "code",
      "metadata": {
        "id": "UkQl_Ptai2hE"
      },
      "source": [
        "import numpy as np"
      ],
      "execution_count": 10,
      "outputs": []
    },
    {
      "cell_type": "code",
      "metadata": {
        "colab": {
          "base_uri": "https://localhost:8080/"
        },
        "id": "dww_nBOJiesV",
        "outputId": "3488df86-a963-458b-f94f-66b805e95149"
      },
      "source": [
        "df_enc = np.array(enc.transform(df[['industry', 'profession', 'traffic', 'way']]).toarray())\n",
        "df_enc"
      ],
      "execution_count": 11,
      "outputs": [
        {
          "output_type": "execute_result",
          "data": {
            "text/plain": [
              "array([[0., 0., 1., ..., 1., 0., 0.],\n",
              "       [0., 0., 1., ..., 1., 0., 0.],\n",
              "       [0., 0., 0., ..., 1., 0., 0.],\n",
              "       ...,\n",
              "       [0., 0., 0., ..., 1., 0., 0.],\n",
              "       [0., 0., 0., ..., 1., 0., 0.],\n",
              "       [0., 0., 0., ..., 1., 0., 0.]])"
            ]
          },
          "metadata": {},
          "execution_count": 11
        }
      ]
    },
    {
      "cell_type": "code",
      "metadata": {
        "colab": {
          "base_uri": "https://localhost:8080/"
        },
        "id": "hIGN4ucZkMRZ",
        "outputId": "05901f97-1f2a-4d11-feab-4f985c31ddbf"
      },
      "source": [
        "np.concatenate(enc.categories_).ravel()"
      ],
      "execution_count": 12,
      "outputs": [
        {
          "output_type": "execute_result",
          "data": {
            "text/plain": [
              "array([' HoReCa', 'Agriculture', 'Banks', 'Building', 'Consult', 'IT',\n",
              "       'Mining', 'Pharma', 'PowerGeneration', 'RealEstate', 'Retail',\n",
              "       'State', 'Telecom', 'etc', 'manufacture', 'transport',\n",
              "       'Accounting', 'BusinessDevelopment', 'Commercial', 'Consult',\n",
              "       'Engineer', 'Finanñe', 'HR', 'IT', 'Law', 'Marketing', 'PR',\n",
              "       'Sales', 'Teaching', 'etc', 'manage', 'KA', 'advert', 'empjs',\n",
              "       'friends', 'rabrecNErab', 'recNErab', 'referal', 'youjs', 'bus',\n",
              "       'car', 'foot'], dtype=object)"
            ]
          },
          "metadata": {},
          "execution_count": 12
        }
      ]
    },
    {
      "cell_type": "code",
      "metadata": {
        "colab": {
          "base_uri": "https://localhost:8080/",
          "height": 222
        },
        "id": "ueLySlyljf8H",
        "outputId": "858b2cae-72f5-468e-af99-87103a989511"
      },
      "source": [
        "df_enc = pd.DataFrame(df_enc, columns=np.concatenate(enc.categories_).ravel())\n",
        "df_enc.head()"
      ],
      "execution_count": 13,
      "outputs": [
        {
          "output_type": "execute_result",
          "data": {
            "text/plain": [
              "    HoReCa  Agriculture  Banks  Building  Consult   IT  Mining  Pharma  \\\n",
              "0      0.0          0.0    1.0       0.0      0.0  0.0     0.0     0.0   \n",
              "1      0.0          0.0    1.0       0.0      0.0  0.0     0.0     0.0   \n",
              "2      0.0          0.0    0.0       0.0      0.0  0.0     0.0     0.0   \n",
              "3      0.0          0.0    0.0       0.0      0.0  0.0     0.0     0.0   \n",
              "4      0.0          0.0    0.0       0.0      0.0  0.0     0.0     0.0   \n",
              "\n",
              "   PowerGeneration  RealEstate  ...  advert  empjs  friends  rabrecNErab  \\\n",
              "0              0.0         0.0  ...     0.0    0.0      0.0          1.0   \n",
              "1              0.0         0.0  ...     0.0    1.0      0.0          0.0   \n",
              "2              1.0         0.0  ...     0.0    0.0      0.0          1.0   \n",
              "3              1.0         0.0  ...     0.0    0.0      0.0          1.0   \n",
              "4              0.0         0.0  ...     0.0    0.0      0.0          0.0   \n",
              "\n",
              "   recNErab  referal  youjs  bus  car  foot  \n",
              "0       0.0      0.0    0.0  1.0  0.0   0.0  \n",
              "1       0.0      0.0    0.0  1.0  0.0   0.0  \n",
              "2       0.0      0.0    0.0  1.0  0.0   0.0  \n",
              "3       0.0      0.0    0.0  1.0  0.0   0.0  \n",
              "4       0.0      0.0    1.0  1.0  0.0   0.0  \n",
              "\n",
              "[5 rows x 42 columns]"
            ],
            "text/html": "<div>\n<style scoped>\n    .dataframe tbody tr th:only-of-type {\n        vertical-align: middle;\n    }\n\n    .dataframe tbody tr th {\n        vertical-align: top;\n    }\n\n    .dataframe thead th {\n        text-align: right;\n    }\n</style>\n<table border=\"1\" class=\"dataframe\">\n  <thead>\n    <tr style=\"text-align: right;\">\n      <th></th>\n      <th>HoReCa</th>\n      <th>Agriculture</th>\n      <th>Banks</th>\n      <th>Building</th>\n      <th>Consult</th>\n      <th>IT</th>\n      <th>Mining</th>\n      <th>Pharma</th>\n      <th>PowerGeneration</th>\n      <th>RealEstate</th>\n      <th>...</th>\n      <th>advert</th>\n      <th>empjs</th>\n      <th>friends</th>\n      <th>rabrecNErab</th>\n      <th>recNErab</th>\n      <th>referal</th>\n      <th>youjs</th>\n      <th>bus</th>\n      <th>car</th>\n      <th>foot</th>\n    </tr>\n  </thead>\n  <tbody>\n    <tr>\n      <th>0</th>\n      <td>0.0</td>\n      <td>0.0</td>\n      <td>1.0</td>\n      <td>0.0</td>\n      <td>0.0</td>\n      <td>0.0</td>\n      <td>0.0</td>\n      <td>0.0</td>\n      <td>0.0</td>\n      <td>0.0</td>\n      <td>...</td>\n      <td>0.0</td>\n      <td>0.0</td>\n      <td>0.0</td>\n      <td>1.0</td>\n      <td>0.0</td>\n      <td>0.0</td>\n      <td>0.0</td>\n      <td>1.0</td>\n      <td>0.0</td>\n      <td>0.0</td>\n    </tr>\n    <tr>\n      <th>1</th>\n      <td>0.0</td>\n      <td>0.0</td>\n      <td>1.0</td>\n      <td>0.0</td>\n      <td>0.0</td>\n      <td>0.0</td>\n      <td>0.0</td>\n      <td>0.0</td>\n      <td>0.0</td>\n      <td>0.0</td>\n      <td>...</td>\n      <td>0.0</td>\n      <td>1.0</td>\n      <td>0.0</td>\n      <td>0.0</td>\n      <td>0.0</td>\n      <td>0.0</td>\n      <td>0.0</td>\n      <td>1.0</td>\n      <td>0.0</td>\n      <td>0.0</td>\n    </tr>\n    <tr>\n      <th>2</th>\n      <td>0.0</td>\n      <td>0.0</td>\n      <td>0.0</td>\n      <td>0.0</td>\n      <td>0.0</td>\n      <td>0.0</td>\n      <td>0.0</td>\n      <td>0.0</td>\n      <td>1.0</td>\n      <td>0.0</td>\n      <td>...</td>\n      <td>0.0</td>\n      <td>0.0</td>\n      <td>0.0</td>\n      <td>1.0</td>\n      <td>0.0</td>\n      <td>0.0</td>\n      <td>0.0</td>\n      <td>1.0</td>\n      <td>0.0</td>\n      <td>0.0</td>\n    </tr>\n    <tr>\n      <th>3</th>\n      <td>0.0</td>\n      <td>0.0</td>\n      <td>0.0</td>\n      <td>0.0</td>\n      <td>0.0</td>\n      <td>0.0</td>\n      <td>0.0</td>\n      <td>0.0</td>\n      <td>1.0</td>\n      <td>0.0</td>\n      <td>...</td>\n      <td>0.0</td>\n      <td>0.0</td>\n      <td>0.0</td>\n      <td>1.0</td>\n      <td>0.0</td>\n      <td>0.0</td>\n      <td>0.0</td>\n      <td>1.0</td>\n      <td>0.0</td>\n      <td>0.0</td>\n    </tr>\n    <tr>\n      <th>4</th>\n      <td>0.0</td>\n      <td>0.0</td>\n      <td>0.0</td>\n      <td>0.0</td>\n      <td>0.0</td>\n      <td>0.0</td>\n      <td>0.0</td>\n      <td>0.0</td>\n      <td>0.0</td>\n      <td>0.0</td>\n      <td>...</td>\n      <td>0.0</td>\n      <td>0.0</td>\n      <td>0.0</td>\n      <td>0.0</td>\n      <td>0.0</td>\n      <td>0.0</td>\n      <td>1.0</td>\n      <td>1.0</td>\n      <td>0.0</td>\n      <td>0.0</td>\n    </tr>\n  </tbody>\n</table>\n<p>5 rows × 42 columns</p>\n</div>"
          },
          "metadata": {},
          "execution_count": 13
        }
      ]
    },
    {
      "cell_type": "code",
      "metadata": {
        "colab": {
          "base_uri": "https://localhost:8080/"
        },
        "id": "w5MYEvf6pFuU",
        "outputId": "8c00229b-b8c8-4171-82de-c0d610daadde"
      },
      "source": [
        "df_enc.shape"
      ],
      "execution_count": 14,
      "outputs": [
        {
          "output_type": "execute_result",
          "data": {
            "text/plain": [
              "(571, 42)"
            ]
          },
          "metadata": {},
          "execution_count": 14
        }
      ]
    },
    {
      "cell_type": "code",
      "metadata": {
        "colab": {
          "base_uri": "https://localhost:8080/",
          "height": 435
        },
        "id": "Yx5ggEfKOiHJ",
        "outputId": "8177f7bc-a48f-47a2-aeed-4584456bfa7e"
      },
      "source": [
        "df_enc"
      ],
      "execution_count": 15,
      "outputs": [
        {
          "output_type": "execute_result",
          "data": {
            "text/plain": [
              "      HoReCa  Agriculture  Banks  Building  Consult   IT  Mining  Pharma  \\\n",
              "0        0.0          0.0    1.0       0.0      0.0  0.0     0.0     0.0   \n",
              "1        0.0          0.0    1.0       0.0      0.0  0.0     0.0     0.0   \n",
              "2        0.0          0.0    0.0       0.0      0.0  0.0     0.0     0.0   \n",
              "3        0.0          0.0    0.0       0.0      0.0  0.0     0.0     0.0   \n",
              "4        0.0          0.0    0.0       0.0      0.0  0.0     0.0     0.0   \n",
              "..       ...          ...    ...       ...      ...  ...     ...     ...   \n",
              "566      0.0          0.0    0.0       0.0      0.0  0.0     0.0     0.0   \n",
              "567      0.0          0.0    0.0       0.0      0.0  0.0     1.0     0.0   \n",
              "568      0.0          0.0    0.0       0.0      0.0  0.0     0.0     0.0   \n",
              "569      0.0          0.0    0.0       0.0      0.0  0.0     0.0     0.0   \n",
              "570      0.0          0.0    0.0       0.0      1.0  0.0     0.0     0.0   \n",
              "\n",
              "     PowerGeneration  RealEstate  ...  advert  empjs  friends  rabrecNErab  \\\n",
              "0                0.0         0.0  ...     0.0    0.0      0.0          1.0   \n",
              "1                0.0         0.0  ...     0.0    1.0      0.0          0.0   \n",
              "2                1.0         0.0  ...     0.0    0.0      0.0          1.0   \n",
              "3                1.0         0.0  ...     0.0    0.0      0.0          1.0   \n",
              "4                0.0         0.0  ...     0.0    0.0      0.0          0.0   \n",
              "..               ...         ...  ...     ...    ...      ...          ...   \n",
              "566              0.0         0.0  ...     0.0    0.0      0.0          0.0   \n",
              "567              0.0         0.0  ...     0.0    0.0      0.0          0.0   \n",
              "568              0.0         0.0  ...     0.0    1.0      0.0          0.0   \n",
              "569              0.0         0.0  ...     0.0    0.0      1.0          0.0   \n",
              "570              0.0         0.0  ...     0.0    0.0      0.0          0.0   \n",
              "\n",
              "     recNErab  referal  youjs  bus  car  foot  \n",
              "0         0.0      0.0    0.0  1.0  0.0   0.0  \n",
              "1         0.0      0.0    0.0  1.0  0.0   0.0  \n",
              "2         0.0      0.0    0.0  1.0  0.0   0.0  \n",
              "3         0.0      0.0    0.0  1.0  0.0   0.0  \n",
              "4         0.0      0.0    1.0  1.0  0.0   0.0  \n",
              "..        ...      ...    ...  ...  ...   ...  \n",
              "566       0.0      0.0    1.0  0.0  1.0   0.0  \n",
              "567       0.0      1.0    0.0  1.0  0.0   0.0  \n",
              "568       0.0      0.0    0.0  1.0  0.0   0.0  \n",
              "569       0.0      0.0    0.0  1.0  0.0   0.0  \n",
              "570       0.0      0.0    1.0  1.0  0.0   0.0  \n",
              "\n",
              "[571 rows x 42 columns]"
            ],
            "text/html": "<div>\n<style scoped>\n    .dataframe tbody tr th:only-of-type {\n        vertical-align: middle;\n    }\n\n    .dataframe tbody tr th {\n        vertical-align: top;\n    }\n\n    .dataframe thead th {\n        text-align: right;\n    }\n</style>\n<table border=\"1\" class=\"dataframe\">\n  <thead>\n    <tr style=\"text-align: right;\">\n      <th></th>\n      <th>HoReCa</th>\n      <th>Agriculture</th>\n      <th>Banks</th>\n      <th>Building</th>\n      <th>Consult</th>\n      <th>IT</th>\n      <th>Mining</th>\n      <th>Pharma</th>\n      <th>PowerGeneration</th>\n      <th>RealEstate</th>\n      <th>...</th>\n      <th>advert</th>\n      <th>empjs</th>\n      <th>friends</th>\n      <th>rabrecNErab</th>\n      <th>recNErab</th>\n      <th>referal</th>\n      <th>youjs</th>\n      <th>bus</th>\n      <th>car</th>\n      <th>foot</th>\n    </tr>\n  </thead>\n  <tbody>\n    <tr>\n      <th>0</th>\n      <td>0.0</td>\n      <td>0.0</td>\n      <td>1.0</td>\n      <td>0.0</td>\n      <td>0.0</td>\n      <td>0.0</td>\n      <td>0.0</td>\n      <td>0.0</td>\n      <td>0.0</td>\n      <td>0.0</td>\n      <td>...</td>\n      <td>0.0</td>\n      <td>0.0</td>\n      <td>0.0</td>\n      <td>1.0</td>\n      <td>0.0</td>\n      <td>0.0</td>\n      <td>0.0</td>\n      <td>1.0</td>\n      <td>0.0</td>\n      <td>0.0</td>\n    </tr>\n    <tr>\n      <th>1</th>\n      <td>0.0</td>\n      <td>0.0</td>\n      <td>1.0</td>\n      <td>0.0</td>\n      <td>0.0</td>\n      <td>0.0</td>\n      <td>0.0</td>\n      <td>0.0</td>\n      <td>0.0</td>\n      <td>0.0</td>\n      <td>...</td>\n      <td>0.0</td>\n      <td>1.0</td>\n      <td>0.0</td>\n      <td>0.0</td>\n      <td>0.0</td>\n      <td>0.0</td>\n      <td>0.0</td>\n      <td>1.0</td>\n      <td>0.0</td>\n      <td>0.0</td>\n    </tr>\n    <tr>\n      <th>2</th>\n      <td>0.0</td>\n      <td>0.0</td>\n      <td>0.0</td>\n      <td>0.0</td>\n      <td>0.0</td>\n      <td>0.0</td>\n      <td>0.0</td>\n      <td>0.0</td>\n      <td>1.0</td>\n      <td>0.0</td>\n      <td>...</td>\n      <td>0.0</td>\n      <td>0.0</td>\n      <td>0.0</td>\n      <td>1.0</td>\n      <td>0.0</td>\n      <td>0.0</td>\n      <td>0.0</td>\n      <td>1.0</td>\n      <td>0.0</td>\n      <td>0.0</td>\n    </tr>\n    <tr>\n      <th>3</th>\n      <td>0.0</td>\n      <td>0.0</td>\n      <td>0.0</td>\n      <td>0.0</td>\n      <td>0.0</td>\n      <td>0.0</td>\n      <td>0.0</td>\n      <td>0.0</td>\n      <td>1.0</td>\n      <td>0.0</td>\n      <td>...</td>\n      <td>0.0</td>\n      <td>0.0</td>\n      <td>0.0</td>\n      <td>1.0</td>\n      <td>0.0</td>\n      <td>0.0</td>\n      <td>0.0</td>\n      <td>1.0</td>\n      <td>0.0</td>\n      <td>0.0</td>\n    </tr>\n    <tr>\n      <th>4</th>\n      <td>0.0</td>\n      <td>0.0</td>\n      <td>0.0</td>\n      <td>0.0</td>\n      <td>0.0</td>\n      <td>0.0</td>\n      <td>0.0</td>\n      <td>0.0</td>\n      <td>0.0</td>\n      <td>0.0</td>\n      <td>...</td>\n      <td>0.0</td>\n      <td>0.0</td>\n      <td>0.0</td>\n      <td>0.0</td>\n      <td>0.0</td>\n      <td>0.0</td>\n      <td>1.0</td>\n      <td>1.0</td>\n      <td>0.0</td>\n      <td>0.0</td>\n    </tr>\n    <tr>\n      <th>...</th>\n      <td>...</td>\n      <td>...</td>\n      <td>...</td>\n      <td>...</td>\n      <td>...</td>\n      <td>...</td>\n      <td>...</td>\n      <td>...</td>\n      <td>...</td>\n      <td>...</td>\n      <td>...</td>\n      <td>...</td>\n      <td>...</td>\n      <td>...</td>\n      <td>...</td>\n      <td>...</td>\n      <td>...</td>\n      <td>...</td>\n      <td>...</td>\n      <td>...</td>\n      <td>...</td>\n    </tr>\n    <tr>\n      <th>566</th>\n      <td>0.0</td>\n      <td>0.0</td>\n      <td>0.0</td>\n      <td>0.0</td>\n      <td>0.0</td>\n      <td>0.0</td>\n      <td>0.0</td>\n      <td>0.0</td>\n      <td>0.0</td>\n      <td>0.0</td>\n      <td>...</td>\n      <td>0.0</td>\n      <td>0.0</td>\n      <td>0.0</td>\n      <td>0.0</td>\n      <td>0.0</td>\n      <td>0.0</td>\n      <td>1.0</td>\n      <td>0.0</td>\n      <td>1.0</td>\n      <td>0.0</td>\n    </tr>\n    <tr>\n      <th>567</th>\n      <td>0.0</td>\n      <td>0.0</td>\n      <td>0.0</td>\n      <td>0.0</td>\n      <td>0.0</td>\n      <td>0.0</td>\n      <td>1.0</td>\n      <td>0.0</td>\n      <td>0.0</td>\n      <td>0.0</td>\n      <td>...</td>\n      <td>0.0</td>\n      <td>0.0</td>\n      <td>0.0</td>\n      <td>0.0</td>\n      <td>0.0</td>\n      <td>1.0</td>\n      <td>0.0</td>\n      <td>1.0</td>\n      <td>0.0</td>\n      <td>0.0</td>\n    </tr>\n    <tr>\n      <th>568</th>\n      <td>0.0</td>\n      <td>0.0</td>\n      <td>0.0</td>\n      <td>0.0</td>\n      <td>0.0</td>\n      <td>0.0</td>\n      <td>0.0</td>\n      <td>0.0</td>\n      <td>0.0</td>\n      <td>0.0</td>\n      <td>...</td>\n      <td>0.0</td>\n      <td>1.0</td>\n      <td>0.0</td>\n      <td>0.0</td>\n      <td>0.0</td>\n      <td>0.0</td>\n      <td>0.0</td>\n      <td>1.0</td>\n      <td>0.0</td>\n      <td>0.0</td>\n    </tr>\n    <tr>\n      <th>569</th>\n      <td>0.0</td>\n      <td>0.0</td>\n      <td>0.0</td>\n      <td>0.0</td>\n      <td>0.0</td>\n      <td>0.0</td>\n      <td>0.0</td>\n      <td>0.0</td>\n      <td>0.0</td>\n      <td>0.0</td>\n      <td>...</td>\n      <td>0.0</td>\n      <td>0.0</td>\n      <td>1.0</td>\n      <td>0.0</td>\n      <td>0.0</td>\n      <td>0.0</td>\n      <td>0.0</td>\n      <td>1.0</td>\n      <td>0.0</td>\n      <td>0.0</td>\n    </tr>\n    <tr>\n      <th>570</th>\n      <td>0.0</td>\n      <td>0.0</td>\n      <td>0.0</td>\n      <td>0.0</td>\n      <td>1.0</td>\n      <td>0.0</td>\n      <td>0.0</td>\n      <td>0.0</td>\n      <td>0.0</td>\n      <td>0.0</td>\n      <td>...</td>\n      <td>0.0</td>\n      <td>0.0</td>\n      <td>0.0</td>\n      <td>0.0</td>\n      <td>0.0</td>\n      <td>0.0</td>\n      <td>1.0</td>\n      <td>1.0</td>\n      <td>0.0</td>\n      <td>0.0</td>\n    </tr>\n  </tbody>\n</table>\n<p>571 rows × 42 columns</p>\n</div>"
          },
          "metadata": {},
          "execution_count": 15
        }
      ]
    },
    {
      "cell_type": "code",
      "metadata": {
        "colab": {
          "base_uri": "https://localhost:8080/"
        },
        "id": "iB4lEKE6Q5I7",
        "outputId": "93d46499-1f1c-4cff-e4c6-484302c7125d"
      },
      "source": [
        "df_enc.isna().sum()"
      ],
      "execution_count": 16,
      "outputs": [
        {
          "output_type": "execute_result",
          "data": {
            "text/plain": [
              " HoReCa                0\n",
              "Agriculture            0\n",
              "Banks                  0\n",
              "Building               0\n",
              "Consult                0\n",
              "IT                     0\n",
              "Mining                 0\n",
              "Pharma                 0\n",
              "PowerGeneration        0\n",
              "RealEstate             0\n",
              "Retail                 0\n",
              "State                  0\n",
              "Telecom                0\n",
              "etc                    0\n",
              "manufacture            0\n",
              "transport              0\n",
              "Accounting             0\n",
              "BusinessDevelopment    0\n",
              "Commercial             0\n",
              "Consult                0\n",
              "Engineer               0\n",
              "Finanñe                0\n",
              "HR                     0\n",
              "IT                     0\n",
              "Law                    0\n",
              "Marketing              0\n",
              "PR                     0\n",
              "Sales                  0\n",
              "Teaching               0\n",
              "etc                    0\n",
              "manage                 0\n",
              "KA                     0\n",
              "advert                 0\n",
              "empjs                  0\n",
              "friends                0\n",
              "rabrecNErab            0\n",
              "recNErab               0\n",
              "referal                0\n",
              "youjs                  0\n",
              "bus                    0\n",
              "car                    0\n",
              "foot                   0\n",
              "dtype: int64"
            ]
          },
          "metadata": {},
          "execution_count": 16
        }
      ]
    },
    {
      "cell_type": "code",
      "metadata": {
        "colab": {
          "base_uri": "https://localhost:8080/",
          "height": 202
        },
        "id": "nrjGH4tKksxU",
        "outputId": "f4257550-9530-4a46-c802-5313ffbb3fa7"
      },
      "source": [
        "df = df.drop(columns=['industry', 'profession', 'traffic', 'way'])\n",
        "df.head()"
      ],
      "execution_count": 17,
      "outputs": [
        {
          "output_type": "execute_result",
          "data": {
            "text/plain": [
              "        stag  event gender   age coach head_gender greywage  extraversion  \\\n",
              "0   7.030801      1      m  35.0    no           f    white           6.2   \n",
              "1  22.965092      1      m  33.0    no           m    white           6.2   \n",
              "2  15.934292      1      f  35.0    no           m    white           6.2   \n",
              "3  15.934292      1      f  35.0    no           m    white           5.4   \n",
              "4   8.410678      1      m  32.0   yes           f    white           3.0   \n",
              "\n",
              "   independ  selfcontrol  anxiety  novator  \n",
              "0       4.1          5.7      7.1      8.3  \n",
              "1       4.1          5.7      7.1      8.3  \n",
              "2       6.2          2.6      4.8      8.3  \n",
              "3       7.6          4.9      2.5      6.7  \n",
              "4       4.1          8.0      7.1      3.7  "
            ],
            "text/html": "<div>\n<style scoped>\n    .dataframe tbody tr th:only-of-type {\n        vertical-align: middle;\n    }\n\n    .dataframe tbody tr th {\n        vertical-align: top;\n    }\n\n    .dataframe thead th {\n        text-align: right;\n    }\n</style>\n<table border=\"1\" class=\"dataframe\">\n  <thead>\n    <tr style=\"text-align: right;\">\n      <th></th>\n      <th>stag</th>\n      <th>event</th>\n      <th>gender</th>\n      <th>age</th>\n      <th>coach</th>\n      <th>head_gender</th>\n      <th>greywage</th>\n      <th>extraversion</th>\n      <th>independ</th>\n      <th>selfcontrol</th>\n      <th>anxiety</th>\n      <th>novator</th>\n    </tr>\n  </thead>\n  <tbody>\n    <tr>\n      <th>0</th>\n      <td>7.030801</td>\n      <td>1</td>\n      <td>m</td>\n      <td>35.0</td>\n      <td>no</td>\n      <td>f</td>\n      <td>white</td>\n      <td>6.2</td>\n      <td>4.1</td>\n      <td>5.7</td>\n      <td>7.1</td>\n      <td>8.3</td>\n    </tr>\n    <tr>\n      <th>1</th>\n      <td>22.965092</td>\n      <td>1</td>\n      <td>m</td>\n      <td>33.0</td>\n      <td>no</td>\n      <td>m</td>\n      <td>white</td>\n      <td>6.2</td>\n      <td>4.1</td>\n      <td>5.7</td>\n      <td>7.1</td>\n      <td>8.3</td>\n    </tr>\n    <tr>\n      <th>2</th>\n      <td>15.934292</td>\n      <td>1</td>\n      <td>f</td>\n      <td>35.0</td>\n      <td>no</td>\n      <td>m</td>\n      <td>white</td>\n      <td>6.2</td>\n      <td>6.2</td>\n      <td>2.6</td>\n      <td>4.8</td>\n      <td>8.3</td>\n    </tr>\n    <tr>\n      <th>3</th>\n      <td>15.934292</td>\n      <td>1</td>\n      <td>f</td>\n      <td>35.0</td>\n      <td>no</td>\n      <td>m</td>\n      <td>white</td>\n      <td>5.4</td>\n      <td>7.6</td>\n      <td>4.9</td>\n      <td>2.5</td>\n      <td>6.7</td>\n    </tr>\n    <tr>\n      <th>4</th>\n      <td>8.410678</td>\n      <td>1</td>\n      <td>m</td>\n      <td>32.0</td>\n      <td>yes</td>\n      <td>f</td>\n      <td>white</td>\n      <td>3.0</td>\n      <td>4.1</td>\n      <td>8.0</td>\n      <td>7.1</td>\n      <td>3.7</td>\n    </tr>\n  </tbody>\n</table>\n</div>"
          },
          "metadata": {},
          "execution_count": 17
        }
      ]
    },
    {
      "cell_type": "code",
      "metadata": {
        "colab": {
          "base_uri": "https://localhost:8080/"
        },
        "id": "mJazgiwrMB-R",
        "outputId": "09a33120-879c-4881-964e-3cdb7da875ac"
      },
      "source": [
        "df.shape"
      ],
      "execution_count": 18,
      "outputs": [
        {
          "output_type": "execute_result",
          "data": {
            "text/plain": [
              "(571, 12)"
            ]
          },
          "metadata": {},
          "execution_count": 18
        }
      ]
    },
    {
      "cell_type": "code",
      "metadata": {
        "colab": {
          "base_uri": "https://localhost:8080/",
          "height": 222
        },
        "id": "PSdfaWAYk0pu",
        "outputId": "4debc50d-5d94-4a3f-9fb2-5c2fdaa0a62b"
      },
      "source": [
        "df = pd.concat([df.reset_index(drop=True), df_enc.reset_index(drop=True)], axis=1)\n",
        "df.head()"
      ],
      "execution_count": 19,
      "outputs": [
        {
          "output_type": "execute_result",
          "data": {
            "text/plain": [
              "        stag  event gender   age coach head_gender greywage  extraversion  \\\n",
              "0   7.030801      1      m  35.0    no           f    white           6.2   \n",
              "1  22.965092      1      m  33.0    no           m    white           6.2   \n",
              "2  15.934292      1      f  35.0    no           m    white           6.2   \n",
              "3  15.934292      1      f  35.0    no           m    white           5.4   \n",
              "4   8.410678      1      m  32.0   yes           f    white           3.0   \n",
              "\n",
              "   independ  selfcontrol  ...  advert  empjs  friends  rabrecNErab  recNErab  \\\n",
              "0       4.1          5.7  ...     0.0    0.0      0.0          1.0       0.0   \n",
              "1       4.1          5.7  ...     0.0    1.0      0.0          0.0       0.0   \n",
              "2       6.2          2.6  ...     0.0    0.0      0.0          1.0       0.0   \n",
              "3       7.6          4.9  ...     0.0    0.0      0.0          1.0       0.0   \n",
              "4       4.1          8.0  ...     0.0    0.0      0.0          0.0       0.0   \n",
              "\n",
              "   referal  youjs  bus  car  foot  \n",
              "0      0.0    0.0  1.0  0.0   0.0  \n",
              "1      0.0    0.0  1.0  0.0   0.0  \n",
              "2      0.0    0.0  1.0  0.0   0.0  \n",
              "3      0.0    0.0  1.0  0.0   0.0  \n",
              "4      0.0    1.0  1.0  0.0   0.0  \n",
              "\n",
              "[5 rows x 54 columns]"
            ],
            "text/html": "<div>\n<style scoped>\n    .dataframe tbody tr th:only-of-type {\n        vertical-align: middle;\n    }\n\n    .dataframe tbody tr th {\n        vertical-align: top;\n    }\n\n    .dataframe thead th {\n        text-align: right;\n    }\n</style>\n<table border=\"1\" class=\"dataframe\">\n  <thead>\n    <tr style=\"text-align: right;\">\n      <th></th>\n      <th>stag</th>\n      <th>event</th>\n      <th>gender</th>\n      <th>age</th>\n      <th>coach</th>\n      <th>head_gender</th>\n      <th>greywage</th>\n      <th>extraversion</th>\n      <th>independ</th>\n      <th>selfcontrol</th>\n      <th>...</th>\n      <th>advert</th>\n      <th>empjs</th>\n      <th>friends</th>\n      <th>rabrecNErab</th>\n      <th>recNErab</th>\n      <th>referal</th>\n      <th>youjs</th>\n      <th>bus</th>\n      <th>car</th>\n      <th>foot</th>\n    </tr>\n  </thead>\n  <tbody>\n    <tr>\n      <th>0</th>\n      <td>7.030801</td>\n      <td>1</td>\n      <td>m</td>\n      <td>35.0</td>\n      <td>no</td>\n      <td>f</td>\n      <td>white</td>\n      <td>6.2</td>\n      <td>4.1</td>\n      <td>5.7</td>\n      <td>...</td>\n      <td>0.0</td>\n      <td>0.0</td>\n      <td>0.0</td>\n      <td>1.0</td>\n      <td>0.0</td>\n      <td>0.0</td>\n      <td>0.0</td>\n      <td>1.0</td>\n      <td>0.0</td>\n      <td>0.0</td>\n    </tr>\n    <tr>\n      <th>1</th>\n      <td>22.965092</td>\n      <td>1</td>\n      <td>m</td>\n      <td>33.0</td>\n      <td>no</td>\n      <td>m</td>\n      <td>white</td>\n      <td>6.2</td>\n      <td>4.1</td>\n      <td>5.7</td>\n      <td>...</td>\n      <td>0.0</td>\n      <td>1.0</td>\n      <td>0.0</td>\n      <td>0.0</td>\n      <td>0.0</td>\n      <td>0.0</td>\n      <td>0.0</td>\n      <td>1.0</td>\n      <td>0.0</td>\n      <td>0.0</td>\n    </tr>\n    <tr>\n      <th>2</th>\n      <td>15.934292</td>\n      <td>1</td>\n      <td>f</td>\n      <td>35.0</td>\n      <td>no</td>\n      <td>m</td>\n      <td>white</td>\n      <td>6.2</td>\n      <td>6.2</td>\n      <td>2.6</td>\n      <td>...</td>\n      <td>0.0</td>\n      <td>0.0</td>\n      <td>0.0</td>\n      <td>1.0</td>\n      <td>0.0</td>\n      <td>0.0</td>\n      <td>0.0</td>\n      <td>1.0</td>\n      <td>0.0</td>\n      <td>0.0</td>\n    </tr>\n    <tr>\n      <th>3</th>\n      <td>15.934292</td>\n      <td>1</td>\n      <td>f</td>\n      <td>35.0</td>\n      <td>no</td>\n      <td>m</td>\n      <td>white</td>\n      <td>5.4</td>\n      <td>7.6</td>\n      <td>4.9</td>\n      <td>...</td>\n      <td>0.0</td>\n      <td>0.0</td>\n      <td>0.0</td>\n      <td>1.0</td>\n      <td>0.0</td>\n      <td>0.0</td>\n      <td>0.0</td>\n      <td>1.0</td>\n      <td>0.0</td>\n      <td>0.0</td>\n    </tr>\n    <tr>\n      <th>4</th>\n      <td>8.410678</td>\n      <td>1</td>\n      <td>m</td>\n      <td>32.0</td>\n      <td>yes</td>\n      <td>f</td>\n      <td>white</td>\n      <td>3.0</td>\n      <td>4.1</td>\n      <td>8.0</td>\n      <td>...</td>\n      <td>0.0</td>\n      <td>0.0</td>\n      <td>0.0</td>\n      <td>0.0</td>\n      <td>0.0</td>\n      <td>0.0</td>\n      <td>1.0</td>\n      <td>1.0</td>\n      <td>0.0</td>\n      <td>0.0</td>\n    </tr>\n  </tbody>\n</table>\n<p>5 rows × 54 columns</p>\n</div>"
          },
          "metadata": {},
          "execution_count": 19
        }
      ]
    },
    {
      "cell_type": "code",
      "metadata": {
        "colab": {
          "base_uri": "https://localhost:8080/"
        },
        "id": "IY5czLv5oxYU",
        "outputId": "2395fd49-1ed2-4961-d785-b950a80fdc85"
      },
      "source": [
        "df.shape"
      ],
      "execution_count": 20,
      "outputs": [
        {
          "output_type": "execute_result",
          "data": {
            "text/plain": [
              "(571, 54)"
            ]
          },
          "metadata": {},
          "execution_count": 20
        }
      ]
    },
    {
      "cell_type": "code",
      "metadata": {
        "id": "W0Ikmw_ZlaHu"
      },
      "source": [
        "scaler = StandardScaler()"
      ],
      "execution_count": 21,
      "outputs": []
    },
    {
      "cell_type": "code",
      "metadata": {
        "colab": {
          "base_uri": "https://localhost:8080/"
        },
        "id": "tNJNvFEgljoi",
        "outputId": "47fb0584-6dd0-49f8-efc1-2e28a5df3bd6"
      },
      "source": [
        "scaler.fit(df[['age', 'extraversion', 'independ', 'selfcontrol', 'anxiety', 'novator']])"
      ],
      "execution_count": 22,
      "outputs": [
        {
          "output_type": "execute_result",
          "data": {
            "text/plain": [
              "StandardScaler()"
            ]
          },
          "metadata": {},
          "execution_count": 22
        }
      ]
    },
    {
      "cell_type": "code",
      "metadata": {
        "colab": {
          "base_uri": "https://localhost:8080/"
        },
        "id": "AuibUm4xl5qe",
        "outputId": "106f024e-045f-4465-9513-e5d30aac1670"
      },
      "source": [
        "df_sca = scaler.transform(df[['age', 'extraversion', 'independ', 'selfcontrol', 'anxiety', 'novator']])\n",
        "df_sca"
      ],
      "execution_count": 23,
      "outputs": [
        {
          "output_type": "execute_result",
          "data": {
            "text/plain": [
              "array([[ 0.59669949,  0.3119534 , -0.87251367,  0.09349647,  0.89243128,\n",
              "         1.26596497],\n",
              "       [ 0.31721812,  0.3119534 , -0.87251367,  0.09349647,  0.89243128,\n",
              "         1.26596497],\n",
              "       [ 0.59669949,  0.3119534 ,  0.37791198, -1.50706543, -0.43942099,\n",
              "         1.26596497],\n",
              "       ...,\n",
              "       [ 0.73644017, -0.98037109, -0.87251367,  1.64242734,  0.42917832,\n",
              "        -0.36412494],\n",
              "       [-0.24174461,  0.74272823,  0.37791198, -1.50706543,  0.42917832,\n",
              "         0.84529661],\n",
              "       [ 1.43514359, -0.98037109, -0.87251367,  0.45491367,  2.22428355,\n",
              "         0.05654343]])"
            ]
          },
          "metadata": {},
          "execution_count": 23
        }
      ]
    },
    {
      "cell_type": "code",
      "metadata": {
        "id": "yO4TRkIZmORT"
      },
      "source": [
        "df_sca = pd.DataFrame(df_sca, columns=['age', 'extraversion', 'independ', 'selfcontrol', 'anxiety', 'novator'])"
      ],
      "execution_count": 24,
      "outputs": []
    },
    {
      "cell_type": "code",
      "metadata": {
        "colab": {
          "base_uri": "https://localhost:8080/",
          "height": 202
        },
        "id": "nqAPifXamWQZ",
        "outputId": "abab760f-2fc6-4a13-cdc4-193097cbe52c"
      },
      "source": [
        "df_sca.head()"
      ],
      "execution_count": 25,
      "outputs": [
        {
          "output_type": "execute_result",
          "data": {
            "text/plain": [
              "        age  extraversion  independ  selfcontrol   anxiety   novator\n",
              "0  0.596699      0.311953 -0.872514     0.093496  0.892431  1.265965\n",
              "1  0.317218      0.311953 -0.872514     0.093496  0.892431  1.265965\n",
              "2  0.596699      0.311953  0.377912    -1.507065 -0.439421  1.265965\n",
              "3  0.596699     -0.118821  1.211529    -0.319552 -1.771273  0.424628\n",
              "4  0.177477     -1.411146 -0.872514     1.281010  0.892431 -1.152878"
            ],
            "text/html": "<div>\n<style scoped>\n    .dataframe tbody tr th:only-of-type {\n        vertical-align: middle;\n    }\n\n    .dataframe tbody tr th {\n        vertical-align: top;\n    }\n\n    .dataframe thead th {\n        text-align: right;\n    }\n</style>\n<table border=\"1\" class=\"dataframe\">\n  <thead>\n    <tr style=\"text-align: right;\">\n      <th></th>\n      <th>age</th>\n      <th>extraversion</th>\n      <th>independ</th>\n      <th>selfcontrol</th>\n      <th>anxiety</th>\n      <th>novator</th>\n    </tr>\n  </thead>\n  <tbody>\n    <tr>\n      <th>0</th>\n      <td>0.596699</td>\n      <td>0.311953</td>\n      <td>-0.872514</td>\n      <td>0.093496</td>\n      <td>0.892431</td>\n      <td>1.265965</td>\n    </tr>\n    <tr>\n      <th>1</th>\n      <td>0.317218</td>\n      <td>0.311953</td>\n      <td>-0.872514</td>\n      <td>0.093496</td>\n      <td>0.892431</td>\n      <td>1.265965</td>\n    </tr>\n    <tr>\n      <th>2</th>\n      <td>0.596699</td>\n      <td>0.311953</td>\n      <td>0.377912</td>\n      <td>-1.507065</td>\n      <td>-0.439421</td>\n      <td>1.265965</td>\n    </tr>\n    <tr>\n      <th>3</th>\n      <td>0.596699</td>\n      <td>-0.118821</td>\n      <td>1.211529</td>\n      <td>-0.319552</td>\n      <td>-1.771273</td>\n      <td>0.424628</td>\n    </tr>\n    <tr>\n      <th>4</th>\n      <td>0.177477</td>\n      <td>-1.411146</td>\n      <td>-0.872514</td>\n      <td>1.281010</td>\n      <td>0.892431</td>\n      <td>-1.152878</td>\n    </tr>\n  </tbody>\n</table>\n</div>"
          },
          "metadata": {},
          "execution_count": 25
        }
      ]
    },
    {
      "cell_type": "code",
      "metadata": {
        "id": "zwr0vwmomaDJ"
      },
      "source": [
        "df_gender = df['gender'].apply(lambda x: 1 if x=='m' else -1)\n",
        "df_coach = df['coach'].apply(lambda x: 1 if x=='yes' else (-1 if x=='no' else 0))\n",
        "df_head_gender = df['head_gender'].apply(lambda x: 1 if x=='m' else -1)\n",
        "df_greywage = df['greywage'].apply(lambda x: 1 if x=='white' else -1)"
      ],
      "execution_count": 27,
      "outputs": []
    },
    {
      "cell_type": "code",
      "metadata": {
        "id": "EIDnXb64nVOI"
      },
      "source": [
        "df_gender = pd.DataFrame(df_gender, columns=['gender'])\n",
        "df_coach = pd.DataFrame(df_coach, columns=['coach'])\n",
        "df_head_gender = pd.DataFrame(df_head_gender, columns=['head_gender'])\n",
        "df_greywage = pd.DataFrame(df_greywage, columns=['greywage'])"
      ],
      "execution_count": 28,
      "outputs": []
    },
    {
      "cell_type": "code",
      "metadata": {
        "id": "HnQu8B6lnlER"
      },
      "source": [
        "df = df.drop(columns=['age', 'extraversion', 'independ', 'selfcontrol', 'anxiety', 'novator', 'gender', 'coach', 'head_gender', 'greywage'])"
      ],
      "execution_count": 29,
      "outputs": []
    },
    {
      "cell_type": "code",
      "metadata": {
        "id": "EQ6NT9zunxJd"
      },
      "source": [
        "df = pd.concat([df_gender.reset_index(drop=True), df_sca.reset_index(drop=True), df_coach.reset_index(drop=True), df_head_gender.reset_index(drop=True), df_greywage.reset_index(drop=True), df.reset_index(drop=True)], axis=1)"
      ],
      "execution_count": 30,
      "outputs": []
    },
    {
      "cell_type": "code",
      "metadata": {
        "colab": {
          "base_uri": "https://localhost:8080/",
          "height": 222
        },
        "id": "H3jV4w3yoERm",
        "outputId": "b26e69d7-b27c-48b8-f874-cba77b22d2d6"
      },
      "source": [
        "df.head()"
      ],
      "execution_count": 31,
      "outputs": [
        {
          "output_type": "execute_result",
          "data": {
            "text/plain": [
              "   gender       age  extraversion  independ  selfcontrol   anxiety   novator  \\\n",
              "0       1  0.596699      0.311953 -0.872514     0.093496  0.892431  1.265965   \n",
              "1       1  0.317218      0.311953 -0.872514     0.093496  0.892431  1.265965   \n",
              "2      -1  0.596699      0.311953  0.377912    -1.507065 -0.439421  1.265965   \n",
              "3      -1  0.596699     -0.118821  1.211529    -0.319552 -1.771273  0.424628   \n",
              "4       1  0.177477     -1.411146 -0.872514     1.281010  0.892431 -1.152878   \n",
              "\n",
              "   coach  head_gender  greywage  ...  advert  empjs  friends  rabrecNErab  \\\n",
              "0     -1           -1         1  ...     0.0    0.0      0.0          1.0   \n",
              "1     -1            1         1  ...     0.0    1.0      0.0          0.0   \n",
              "2     -1            1         1  ...     0.0    0.0      0.0          1.0   \n",
              "3     -1            1         1  ...     0.0    0.0      0.0          1.0   \n",
              "4      1           -1         1  ...     0.0    0.0      0.0          0.0   \n",
              "\n",
              "   recNErab  referal  youjs  bus  car  foot  \n",
              "0       0.0      0.0    0.0  1.0  0.0   0.0  \n",
              "1       0.0      0.0    0.0  1.0  0.0   0.0  \n",
              "2       0.0      0.0    0.0  1.0  0.0   0.0  \n",
              "3       0.0      0.0    0.0  1.0  0.0   0.0  \n",
              "4       0.0      0.0    1.0  1.0  0.0   0.0  \n",
              "\n",
              "[5 rows x 54 columns]"
            ],
            "text/html": "<div>\n<style scoped>\n    .dataframe tbody tr th:only-of-type {\n        vertical-align: middle;\n    }\n\n    .dataframe tbody tr th {\n        vertical-align: top;\n    }\n\n    .dataframe thead th {\n        text-align: right;\n    }\n</style>\n<table border=\"1\" class=\"dataframe\">\n  <thead>\n    <tr style=\"text-align: right;\">\n      <th></th>\n      <th>gender</th>\n      <th>age</th>\n      <th>extraversion</th>\n      <th>independ</th>\n      <th>selfcontrol</th>\n      <th>anxiety</th>\n      <th>novator</th>\n      <th>coach</th>\n      <th>head_gender</th>\n      <th>greywage</th>\n      <th>...</th>\n      <th>advert</th>\n      <th>empjs</th>\n      <th>friends</th>\n      <th>rabrecNErab</th>\n      <th>recNErab</th>\n      <th>referal</th>\n      <th>youjs</th>\n      <th>bus</th>\n      <th>car</th>\n      <th>foot</th>\n    </tr>\n  </thead>\n  <tbody>\n    <tr>\n      <th>0</th>\n      <td>1</td>\n      <td>0.596699</td>\n      <td>0.311953</td>\n      <td>-0.872514</td>\n      <td>0.093496</td>\n      <td>0.892431</td>\n      <td>1.265965</td>\n      <td>-1</td>\n      <td>-1</td>\n      <td>1</td>\n      <td>...</td>\n      <td>0.0</td>\n      <td>0.0</td>\n      <td>0.0</td>\n      <td>1.0</td>\n      <td>0.0</td>\n      <td>0.0</td>\n      <td>0.0</td>\n      <td>1.0</td>\n      <td>0.0</td>\n      <td>0.0</td>\n    </tr>\n    <tr>\n      <th>1</th>\n      <td>1</td>\n      <td>0.317218</td>\n      <td>0.311953</td>\n      <td>-0.872514</td>\n      <td>0.093496</td>\n      <td>0.892431</td>\n      <td>1.265965</td>\n      <td>-1</td>\n      <td>1</td>\n      <td>1</td>\n      <td>...</td>\n      <td>0.0</td>\n      <td>1.0</td>\n      <td>0.0</td>\n      <td>0.0</td>\n      <td>0.0</td>\n      <td>0.0</td>\n      <td>0.0</td>\n      <td>1.0</td>\n      <td>0.0</td>\n      <td>0.0</td>\n    </tr>\n    <tr>\n      <th>2</th>\n      <td>-1</td>\n      <td>0.596699</td>\n      <td>0.311953</td>\n      <td>0.377912</td>\n      <td>-1.507065</td>\n      <td>-0.439421</td>\n      <td>1.265965</td>\n      <td>-1</td>\n      <td>1</td>\n      <td>1</td>\n      <td>...</td>\n      <td>0.0</td>\n      <td>0.0</td>\n      <td>0.0</td>\n      <td>1.0</td>\n      <td>0.0</td>\n      <td>0.0</td>\n      <td>0.0</td>\n      <td>1.0</td>\n      <td>0.0</td>\n      <td>0.0</td>\n    </tr>\n    <tr>\n      <th>3</th>\n      <td>-1</td>\n      <td>0.596699</td>\n      <td>-0.118821</td>\n      <td>1.211529</td>\n      <td>-0.319552</td>\n      <td>-1.771273</td>\n      <td>0.424628</td>\n      <td>-1</td>\n      <td>1</td>\n      <td>1</td>\n      <td>...</td>\n      <td>0.0</td>\n      <td>0.0</td>\n      <td>0.0</td>\n      <td>1.0</td>\n      <td>0.0</td>\n      <td>0.0</td>\n      <td>0.0</td>\n      <td>1.0</td>\n      <td>0.0</td>\n      <td>0.0</td>\n    </tr>\n    <tr>\n      <th>4</th>\n      <td>1</td>\n      <td>0.177477</td>\n      <td>-1.411146</td>\n      <td>-0.872514</td>\n      <td>1.281010</td>\n      <td>0.892431</td>\n      <td>-1.152878</td>\n      <td>1</td>\n      <td>-1</td>\n      <td>1</td>\n      <td>...</td>\n      <td>0.0</td>\n      <td>0.0</td>\n      <td>0.0</td>\n      <td>0.0</td>\n      <td>0.0</td>\n      <td>0.0</td>\n      <td>1.0</td>\n      <td>1.0</td>\n      <td>0.0</td>\n      <td>0.0</td>\n    </tr>\n  </tbody>\n</table>\n<p>5 rows × 54 columns</p>\n</div>"
          },
          "metadata": {},
          "execution_count": 31
        }
      ]
    },
    {
      "cell_type": "code",
      "metadata": {
        "colab": {
          "base_uri": "https://localhost:8080/"
        },
        "id": "QJoFxnKMpiNp",
        "outputId": "3e77c3a3-50a5-4e48-9d93-401e9a78cef3"
      },
      "source": [
        "df.shape"
      ],
      "execution_count": 32,
      "outputs": [
        {
          "output_type": "execute_result",
          "data": {
            "text/plain": [
              "(571, 54)"
            ]
          },
          "metadata": {},
          "execution_count": 32
        }
      ]
    },
    {
      "cell_type": "code",
      "metadata": {
        "id": "J0YAN6dqoLbW"
      },
      "source": [
        "X = df.drop(columns=['stag'])\n",
        "y = df[['stag']]"
      ],
      "execution_count": 33,
      "outputs": []
    },
    {
      "cell_type": "code",
      "metadata": {
        "colab": {
          "base_uri": "https://localhost:8080/"
        },
        "id": "jNZMoUpBoa0c",
        "outputId": "b77b6a5e-5495-499d-c6df-b3aab9558881"
      },
      "source": [
        "X.shape"
      ],
      "execution_count": 34,
      "outputs": [
        {
          "output_type": "execute_result",
          "data": {
            "text/plain": [
              "(571, 53)"
            ]
          },
          "metadata": {},
          "execution_count": 34
        }
      ]
    },
    {
      "cell_type": "code",
      "metadata": {
        "colab": {
          "base_uri": "https://localhost:8080/"
        },
        "id": "Zw_KbJi4odb3",
        "outputId": "63a26151-0384-4361-e843-8bd10d7bc71a"
      },
      "source": [
        "y.shape"
      ],
      "execution_count": 35,
      "outputs": [
        {
          "output_type": "execute_result",
          "data": {
            "text/plain": [
              "(571, 1)"
            ]
          },
          "metadata": {},
          "execution_count": 35
        }
      ]
    },
    {
      "cell_type": "code",
      "metadata": {
        "id": "xbkl0yrzogVf"
      },
      "source": [
        "from sklearn.linear_model import LinearRegression"
      ],
      "execution_count": 80,
      "outputs": []
    },
    {
      "cell_type": "code",
      "metadata": {
        "id": "PoyqtHWlojdh"
      },
      "source": [
        "lr = LinearRegression()"
      ],
      "execution_count": 81,
      "outputs": []
    },
    {
      "cell_type": "code",
      "metadata": {
        "colab": {
          "base_uri": "https://localhost:8080/"
        },
        "id": "Ro7FzFc4olcL",
        "outputId": "bc702b5e-61e0-40bb-a86f-20d80c4e3f21"
      },
      "source": [
        "lr.fit(X, y)"
      ],
      "execution_count": 82,
      "outputs": [
        {
          "output_type": "execute_result",
          "data": {
            "text/plain": [
              "LinearRegression(copy_X=True, fit_intercept=True, n_jobs=None, normalize=False)"
            ]
          },
          "metadata": {
            "tags": []
          },
          "execution_count": 82
        }
      ]
    },
    {
      "cell_type": "code",
      "metadata": {
        "colab": {
          "base_uri": "https://localhost:8080/"
        },
        "id": "tqJeth6Lp0Cz",
        "outputId": "4b3d394d-a6ad-4ccd-8252-5b863d02136f"
      },
      "source": [
        "lr.score(X, y)"
      ],
      "execution_count": 83,
      "outputs": [
        {
          "output_type": "execute_result",
          "data": {
            "text/plain": [
              "0.272411517892694"
            ]
          },
          "metadata": {
            "tags": []
          },
          "execution_count": 83
        }
      ]
    },
    {
      "cell_type": "code",
      "metadata": {
        "id": "mX4YcXg7p8Bo"
      },
      "source": [
        "from tensorflow.keras.models import Sequential\n",
        "from tensorflow.keras.layers import Dense\n",
        "from sklearn.model_selection import train_test_split"
      ],
      "execution_count": 36,
      "outputs": []
    },
    {
      "cell_type": "code",
      "metadata": {
        "id": "RNzrMTx5qEjS"
      },
      "source": [
        "X_train, X_test, y_train, y_test = train_test_split(X, y)"
      ],
      "execution_count": 37,
      "outputs": []
    },
    {
      "cell_type": "code",
      "metadata": {
        "id": "F6RhWWknqQMJ"
      },
      "source": [
        "nn = Sequential()\n",
        "nn.add(Dense(X_train.shape[1], activation='relu', input_shape=(X_train.shape[1],)))\n",
        "nn.add(Dense(5, activation='relu'))\n",
        "nn.add(Dense(5, activation='relu'))\n",
        "nn.add(Dense(1, activation='relu'))"
      ],
      "execution_count": 54,
      "outputs": []
    },
    {
      "cell_type": "code",
      "metadata": {
        "colab": {
          "base_uri": "https://localhost:8080/"
        },
        "id": "UMFQh5IbqkIq",
        "outputId": "215f6d13-93dd-4a50-cb30-3255df201cdf"
      },
      "source": [
        "nn.summary()"
      ],
      "execution_count": 55,
      "outputs": [
        {
          "output_type": "stream",
          "name": "stdout",
          "text": [
            "Model: \"sequential_3\"\n_________________________________________________________________\nLayer (type)                 Output Shape              Param #   \n=================================================================\ndense_12 (Dense)             (None, 53)                2862      \n_________________________________________________________________\ndense_13 (Dense)             (None, 5)                 270       \n_________________________________________________________________\ndense_14 (Dense)             (None, 5)                 30        \n_________________________________________________________________\ndense_15 (Dense)             (None, 1)                 6         \n=================================================================\nTotal params: 3,168\nTrainable params: 3,168\nNon-trainable params: 0\n_________________________________________________________________\n"
          ]
        }
      ]
    },
    {
      "cell_type": "code",
      "metadata": {
        "id": "7YHZN57-q5C2"
      },
      "source": [
        "nn.compile(optimizer='adam', loss='mean_squared_logarithmic_error', metrics=['mean_squared_logarithmic_error'])"
      ],
      "execution_count": 56,
      "outputs": []
    },
    {
      "cell_type": "code",
      "metadata": {
        "colab": {
          "base_uri": "https://localhost:8080/"
        },
        "id": "IvSUPKPhfiTv",
        "outputId": "5ad54343-47d7-468d-da30-6677e5471975",
        "tags": []
      },
      "source": [
        "nn.fit(X_train, y_train, epochs=100, validation_data=(X_test, y_test))"
      ],
      "execution_count": 57,
      "outputs": [
        {
          "output_type": "stream",
          "name": "stdout",
          "text": [
            "Epoch 1/100\n",
            "14/14 [==============================] - 1s 18ms/step - loss: 10.7173 - mean_squared_logarithmic_error: 10.7173 - val_loss: 10.8696 - val_mean_squared_logarithmic_error: 10.8696\n",
            "Epoch 2/100\n",
            "14/14 [==============================] - 0s 3ms/step - loss: 9.7285 - mean_squared_logarithmic_error: 9.7285 - val_loss: 9.3094 - val_mean_squared_logarithmic_error: 9.3094\n",
            "Epoch 3/100\n",
            "14/14 [==============================] - 0s 3ms/step - loss: 7.8639 - mean_squared_logarithmic_error: 7.8639 - val_loss: 7.5087 - val_mean_squared_logarithmic_error: 7.5087\n",
            "Epoch 4/100\n",
            "14/14 [==============================] - 0s 3ms/step - loss: 6.3650 - mean_squared_logarithmic_error: 6.3650 - val_loss: 6.1858 - val_mean_squared_logarithmic_error: 6.1858\n",
            "Epoch 5/100\n",
            "14/14 [==============================] - 0s 4ms/step - loss: 5.2514 - mean_squared_logarithmic_error: 5.2514 - val_loss: 5.1515 - val_mean_squared_logarithmic_error: 5.1515\n",
            "Epoch 6/100\n",
            "14/14 [==============================] - 0s 3ms/step - loss: 4.3732 - mean_squared_logarithmic_error: 4.3732 - val_loss: 4.3233 - val_mean_squared_logarithmic_error: 4.3233\n",
            "Epoch 7/100\n",
            "14/14 [==============================] - 0s 3ms/step - loss: 3.6616 - mean_squared_logarithmic_error: 3.6616 - val_loss: 3.6599 - val_mean_squared_logarithmic_error: 3.6599\n",
            "Epoch 8/100\n",
            "14/14 [==============================] - 0s 3ms/step - loss: 3.1008 - mean_squared_logarithmic_error: 3.1008 - val_loss: 3.1111 - val_mean_squared_logarithmic_error: 3.1111\n",
            "Epoch 9/100\n",
            "14/14 [==============================] - 0s 3ms/step - loss: 2.6464 - mean_squared_logarithmic_error: 2.6464 - val_loss: 2.6789 - val_mean_squared_logarithmic_error: 2.6789\n",
            "Epoch 10/100\n",
            "14/14 [==============================] - 0s 3ms/step - loss: 2.2871 - mean_squared_logarithmic_error: 2.2871 - val_loss: 2.3343 - val_mean_squared_logarithmic_error: 2.3343\n",
            "Epoch 11/100\n",
            "14/14 [==============================] - 0s 3ms/step - loss: 1.9999 - mean_squared_logarithmic_error: 1.9999 - val_loss: 2.0569 - val_mean_squared_logarithmic_error: 2.0569\n",
            "Epoch 12/100\n",
            "14/14 [==============================] - 0s 3ms/step - loss: 1.7735 - mean_squared_logarithmic_error: 1.7735 - val_loss: 1.8330 - val_mean_squared_logarithmic_error: 1.8330\n",
            "Epoch 13/100\n",
            "14/14 [==============================] - 0s 3ms/step - loss: 1.5915 - mean_squared_logarithmic_error: 1.5915 - val_loss: 1.6529 - val_mean_squared_logarithmic_error: 1.6529\n",
            "Epoch 14/100\n",
            "14/14 [==============================] - 0s 4ms/step - loss: 1.4501 - mean_squared_logarithmic_error: 1.4501 - val_loss: 1.5092 - val_mean_squared_logarithmic_error: 1.5092\n",
            "Epoch 15/100\n",
            "14/14 [==============================] - 0s 5ms/step - loss: 1.3372 - mean_squared_logarithmic_error: 1.3372 - val_loss: 1.3936 - val_mean_squared_logarithmic_error: 1.3936\n",
            "Epoch 16/100\n",
            "14/14 [==============================] - 0s 4ms/step - loss: 1.2466 - mean_squared_logarithmic_error: 1.2466 - val_loss: 1.3014 - val_mean_squared_logarithmic_error: 1.3014\n",
            "Epoch 17/100\n",
            "14/14 [==============================] - 0s 4ms/step - loss: 1.1737 - mean_squared_logarithmic_error: 1.1737 - val_loss: 1.2254 - val_mean_squared_logarithmic_error: 1.2254\n",
            "Epoch 18/100\n",
            "14/14 [==============================] - 0s 3ms/step - loss: 1.1160 - mean_squared_logarithmic_error: 1.1160 - val_loss: 1.1648 - val_mean_squared_logarithmic_error: 1.1648\n",
            "Epoch 19/100\n",
            "14/14 [==============================] - 0s 3ms/step - loss: 1.0699 - mean_squared_logarithmic_error: 1.0699 - val_loss: 1.1182 - val_mean_squared_logarithmic_error: 1.1182\n",
            "Epoch 20/100\n",
            "14/14 [==============================] - 0s 3ms/step - loss: 1.0335 - mean_squared_logarithmic_error: 1.0335 - val_loss: 1.0770 - val_mean_squared_logarithmic_error: 1.0770\n",
            "Epoch 21/100\n",
            "14/14 [==============================] - 0s 4ms/step - loss: 1.0031 - mean_squared_logarithmic_error: 1.0031 - val_loss: 1.0441 - val_mean_squared_logarithmic_error: 1.0441\n",
            "Epoch 22/100\n",
            "14/14 [==============================] - 0s 4ms/step - loss: 0.9794 - mean_squared_logarithmic_error: 0.9794 - val_loss: 1.0189 - val_mean_squared_logarithmic_error: 1.0189\n",
            "Epoch 23/100\n",
            "14/14 [==============================] - 0s 4ms/step - loss: 0.9605 - mean_squared_logarithmic_error: 0.9605 - val_loss: 0.9954 - val_mean_squared_logarithmic_error: 0.9954\n",
            "Epoch 24/100\n",
            "14/14 [==============================] - 0s 5ms/step - loss: 0.9432 - mean_squared_logarithmic_error: 0.9432 - val_loss: 0.9788 - val_mean_squared_logarithmic_error: 0.9788\n",
            "Epoch 25/100\n",
            "14/14 [==============================] - 0s 5ms/step - loss: 0.9310 - mean_squared_logarithmic_error: 0.9310 - val_loss: 0.9634 - val_mean_squared_logarithmic_error: 0.9634\n",
            "Epoch 26/100\n",
            "14/14 [==============================] - 0s 5ms/step - loss: 0.9200 - mean_squared_logarithmic_error: 0.9200 - val_loss: 0.9514 - val_mean_squared_logarithmic_error: 0.9514\n",
            "Epoch 27/100\n",
            "14/14 [==============================] - 0s 5ms/step - loss: 0.9112 - mean_squared_logarithmic_error: 0.9112 - val_loss: 0.9409 - val_mean_squared_logarithmic_error: 0.9409\n",
            "Epoch 28/100\n",
            "14/14 [==============================] - 0s 6ms/step - loss: 0.9036 - mean_squared_logarithmic_error: 0.9036 - val_loss: 0.9323 - val_mean_squared_logarithmic_error: 0.9323\n",
            "Epoch 29/100\n",
            "14/14 [==============================] - 0s 7ms/step - loss: 0.8973 - mean_squared_logarithmic_error: 0.8973 - val_loss: 0.9245 - val_mean_squared_logarithmic_error: 0.9245\n",
            "Epoch 30/100\n",
            "14/14 [==============================] - 0s 9ms/step - loss: 0.8915 - mean_squared_logarithmic_error: 0.8915 - val_loss: 0.9194 - val_mean_squared_logarithmic_error: 0.9194\n",
            "Epoch 31/100\n",
            "14/14 [==============================] - 0s 12ms/step - loss: 0.8864 - mean_squared_logarithmic_error: 0.8864 - val_loss: 0.9142 - val_mean_squared_logarithmic_error: 0.9142\n",
            "Epoch 32/100\n",
            "14/14 [==============================] - 0s 10ms/step - loss: 0.8818 - mean_squared_logarithmic_error: 0.8818 - val_loss: 0.9087 - val_mean_squared_logarithmic_error: 0.9087\n",
            "Epoch 33/100\n",
            "14/14 [==============================] - 0s 12ms/step - loss: 0.8776 - mean_squared_logarithmic_error: 0.8776 - val_loss: 0.9046 - val_mean_squared_logarithmic_error: 0.9046\n",
            "Epoch 34/100\n",
            "14/14 [==============================] - 0s 11ms/step - loss: 0.8736 - mean_squared_logarithmic_error: 0.8736 - val_loss: 0.9009 - val_mean_squared_logarithmic_error: 0.9009\n",
            "Epoch 35/100\n",
            "14/14 [==============================] - 0s 10ms/step - loss: 0.8700 - mean_squared_logarithmic_error: 0.8700 - val_loss: 0.8986 - val_mean_squared_logarithmic_error: 0.8986\n",
            "Epoch 36/100\n",
            "14/14 [==============================] - 0s 10ms/step - loss: 0.8666 - mean_squared_logarithmic_error: 0.8666 - val_loss: 0.8958 - val_mean_squared_logarithmic_error: 0.8958\n",
            "Epoch 37/100\n",
            "14/14 [==============================] - 0s 12ms/step - loss: 0.8634 - mean_squared_logarithmic_error: 0.8634 - val_loss: 0.8930 - val_mean_squared_logarithmic_error: 0.8930\n",
            "Epoch 38/100\n",
            "14/14 [==============================] - 0s 9ms/step - loss: 0.8602 - mean_squared_logarithmic_error: 0.8602 - val_loss: 0.8898 - val_mean_squared_logarithmic_error: 0.8898\n",
            "Epoch 39/100\n",
            "14/14 [==============================] - 0s 8ms/step - loss: 0.8571 - mean_squared_logarithmic_error: 0.8571 - val_loss: 0.8878 - val_mean_squared_logarithmic_error: 0.8878\n",
            "Epoch 40/100\n",
            "14/14 [==============================] - 0s 9ms/step - loss: 0.8539 - mean_squared_logarithmic_error: 0.8539 - val_loss: 0.8860 - val_mean_squared_logarithmic_error: 0.8860\n",
            "Epoch 41/100\n",
            "14/14 [==============================] - 0s 9ms/step - loss: 0.8510 - mean_squared_logarithmic_error: 0.8510 - val_loss: 0.8847 - val_mean_squared_logarithmic_error: 0.8847\n",
            "Epoch 42/100\n",
            "14/14 [==============================] - 0s 10ms/step - loss: 0.8479 - mean_squared_logarithmic_error: 0.8479 - val_loss: 0.8835 - val_mean_squared_logarithmic_error: 0.8835\n",
            "Epoch 43/100\n",
            "14/14 [==============================] - 0s 11ms/step - loss: 0.8453 - mean_squared_logarithmic_error: 0.8453 - val_loss: 0.8820 - val_mean_squared_logarithmic_error: 0.8820\n",
            "Epoch 44/100\n",
            "14/14 [==============================] - 0s 10ms/step - loss: 0.8423 - mean_squared_logarithmic_error: 0.8423 - val_loss: 0.8796 - val_mean_squared_logarithmic_error: 0.8796\n",
            "Epoch 45/100\n",
            "14/14 [==============================] - 0s 10ms/step - loss: 0.8396 - mean_squared_logarithmic_error: 0.8396 - val_loss: 0.8783 - val_mean_squared_logarithmic_error: 0.8783\n",
            "Epoch 46/100\n",
            "14/14 [==============================] - 0s 10ms/step - loss: 0.8366 - mean_squared_logarithmic_error: 0.8366 - val_loss: 0.8775 - val_mean_squared_logarithmic_error: 0.8775\n",
            "Epoch 47/100\n",
            "14/14 [==============================] - 0s 8ms/step - loss: 0.8341 - mean_squared_logarithmic_error: 0.8341 - val_loss: 0.8753 - val_mean_squared_logarithmic_error: 0.8753\n",
            "Epoch 48/100\n",
            "14/14 [==============================] - 0s 11ms/step - loss: 0.8313 - mean_squared_logarithmic_error: 0.8313 - val_loss: 0.8751 - val_mean_squared_logarithmic_error: 0.8751\n",
            "Epoch 49/100\n",
            "14/14 [==============================] - 0s 21ms/step - loss: 0.8288 - mean_squared_logarithmic_error: 0.8288 - val_loss: 0.8725 - val_mean_squared_logarithmic_error: 0.8725\n",
            "Epoch 50/100\n",
            "14/14 [==============================] - 0s 12ms/step - loss: 0.8259 - mean_squared_logarithmic_error: 0.8259 - val_loss: 0.8716 - val_mean_squared_logarithmic_error: 0.8716\n",
            "Epoch 51/100\n",
            "14/14 [==============================] - 0s 12ms/step - loss: 0.8234 - mean_squared_logarithmic_error: 0.8234 - val_loss: 0.8696 - val_mean_squared_logarithmic_error: 0.8696\n",
            "Epoch 52/100\n",
            "14/14 [==============================] - 0s 9ms/step - loss: 0.8207 - mean_squared_logarithmic_error: 0.8207 - val_loss: 0.8699 - val_mean_squared_logarithmic_error: 0.8699\n",
            "Epoch 53/100\n",
            "14/14 [==============================] - 0s 9ms/step - loss: 0.8180 - mean_squared_logarithmic_error: 0.8180 - val_loss: 0.8691 - val_mean_squared_logarithmic_error: 0.8691\n",
            "Epoch 54/100\n",
            "14/14 [==============================] - 0s 9ms/step - loss: 0.8157 - mean_squared_logarithmic_error: 0.8157 - val_loss: 0.8681 - val_mean_squared_logarithmic_error: 0.8681\n",
            "Epoch 55/100\n",
            "14/14 [==============================] - 0s 8ms/step - loss: 0.8132 - mean_squared_logarithmic_error: 0.8132 - val_loss: 0.8679 - val_mean_squared_logarithmic_error: 0.8679\n",
            "Epoch 56/100\n",
            "14/14 [==============================] - 0s 10ms/step - loss: 0.8110 - mean_squared_logarithmic_error: 0.8110 - val_loss: 0.8668 - val_mean_squared_logarithmic_error: 0.8668\n",
            "Epoch 57/100\n",
            "14/14 [==============================] - 0s 10ms/step - loss: 0.8084 - mean_squared_logarithmic_error: 0.8084 - val_loss: 0.8665 - val_mean_squared_logarithmic_error: 0.8665\n",
            "Epoch 58/100\n",
            "14/14 [==============================] - 0s 10ms/step - loss: 0.8056 - mean_squared_logarithmic_error: 0.8056 - val_loss: 0.8655 - val_mean_squared_logarithmic_error: 0.8655\n",
            "Epoch 59/100\n",
            "14/14 [==============================] - 0s 11ms/step - loss: 0.8032 - mean_squared_logarithmic_error: 0.8032 - val_loss: 0.8642 - val_mean_squared_logarithmic_error: 0.8642\n",
            "Epoch 60/100\n",
            "14/14 [==============================] - 0s 10ms/step - loss: 0.8007 - mean_squared_logarithmic_error: 0.8007 - val_loss: 0.8635 - val_mean_squared_logarithmic_error: 0.8635\n",
            "Epoch 61/100\n",
            "14/14 [==============================] - 0s 8ms/step - loss: 0.7985 - mean_squared_logarithmic_error: 0.7985 - val_loss: 0.8632 - val_mean_squared_logarithmic_error: 0.8632\n",
            "Epoch 62/100\n",
            "14/14 [==============================] - 0s 8ms/step - loss: 0.7962 - mean_squared_logarithmic_error: 0.7962 - val_loss: 0.8626 - val_mean_squared_logarithmic_error: 0.8626\n",
            "Epoch 63/100\n",
            "14/14 [==============================] - 0s 8ms/step - loss: 0.7940 - mean_squared_logarithmic_error: 0.7940 - val_loss: 0.8612 - val_mean_squared_logarithmic_error: 0.8612\n",
            "Epoch 64/100\n",
            "14/14 [==============================] - 0s 12ms/step - loss: 0.7918 - mean_squared_logarithmic_error: 0.7918 - val_loss: 0.8610 - val_mean_squared_logarithmic_error: 0.8610\n",
            "Epoch 65/100\n",
            "14/14 [==============================] - 0s 10ms/step - loss: 0.7893 - mean_squared_logarithmic_error: 0.7893 - val_loss: 0.8604 - val_mean_squared_logarithmic_error: 0.8604\n",
            "Epoch 66/100\n",
            "14/14 [==============================] - 0s 10ms/step - loss: 0.7873 - mean_squared_logarithmic_error: 0.7873 - val_loss: 0.8596 - val_mean_squared_logarithmic_error: 0.8596\n",
            "Epoch 67/100\n",
            "14/14 [==============================] - 0s 8ms/step - loss: 0.7852 - mean_squared_logarithmic_error: 0.7852 - val_loss: 0.8587 - val_mean_squared_logarithmic_error: 0.8587\n",
            "Epoch 68/100\n",
            "14/14 [==============================] - 0s 8ms/step - loss: 0.7829 - mean_squared_logarithmic_error: 0.7829 - val_loss: 0.8584 - val_mean_squared_logarithmic_error: 0.8584\n",
            "Epoch 69/100\n",
            "14/14 [==============================] - 0s 7ms/step - loss: 0.7811 - mean_squared_logarithmic_error: 0.7811 - val_loss: 0.8582 - val_mean_squared_logarithmic_error: 0.8582\n",
            "Epoch 70/100\n",
            "14/14 [==============================] - 0s 9ms/step - loss: 0.7786 - mean_squared_logarithmic_error: 0.7786 - val_loss: 0.8572 - val_mean_squared_logarithmic_error: 0.8572\n",
            "Epoch 71/100\n",
            "14/14 [==============================] - 0s 9ms/step - loss: 0.7771 - mean_squared_logarithmic_error: 0.7771 - val_loss: 0.8556 - val_mean_squared_logarithmic_error: 0.8556\n",
            "Epoch 72/100\n",
            "14/14 [==============================] - 0s 7ms/step - loss: 0.7744 - mean_squared_logarithmic_error: 0.7744 - val_loss: 0.8564 - val_mean_squared_logarithmic_error: 0.8564\n",
            "Epoch 73/100\n",
            "14/14 [==============================] - 0s 10ms/step - loss: 0.7725 - mean_squared_logarithmic_error: 0.7725 - val_loss: 0.8563 - val_mean_squared_logarithmic_error: 0.8563\n",
            "Epoch 74/100\n",
            "14/14 [==============================] - 0s 9ms/step - loss: 0.7702 - mean_squared_logarithmic_error: 0.7702 - val_loss: 0.8558 - val_mean_squared_logarithmic_error: 0.8558\n",
            "Epoch 75/100\n",
            "14/14 [==============================] - 0s 9ms/step - loss: 0.7682 - mean_squared_logarithmic_error: 0.7682 - val_loss: 0.8559 - val_mean_squared_logarithmic_error: 0.8559\n",
            "Epoch 76/100\n",
            "14/14 [==============================] - 0s 8ms/step - loss: 0.7662 - mean_squared_logarithmic_error: 0.7662 - val_loss: 0.8556 - val_mean_squared_logarithmic_error: 0.8556\n",
            "Epoch 77/100\n",
            "14/14 [==============================] - 0s 7ms/step - loss: 0.7641 - mean_squared_logarithmic_error: 0.7641 - val_loss: 0.8550 - val_mean_squared_logarithmic_error: 0.8550\n",
            "Epoch 78/100\n",
            "14/14 [==============================] - 0s 8ms/step - loss: 0.7621 - mean_squared_logarithmic_error: 0.7621 - val_loss: 0.8552 - val_mean_squared_logarithmic_error: 0.8552\n",
            "Epoch 79/100\n",
            "14/14 [==============================] - 0s 8ms/step - loss: 0.7596 - mean_squared_logarithmic_error: 0.7596 - val_loss: 0.8554 - val_mean_squared_logarithmic_error: 0.8554\n",
            "Epoch 80/100\n",
            "14/14 [==============================] - 0s 7ms/step - loss: 0.7576 - mean_squared_logarithmic_error: 0.7576 - val_loss: 0.8549 - val_mean_squared_logarithmic_error: 0.8549\n",
            "Epoch 81/100\n",
            "14/14 [==============================] - 0s 8ms/step - loss: 0.7559 - mean_squared_logarithmic_error: 0.7559 - val_loss: 0.8546 - val_mean_squared_logarithmic_error: 0.8546\n",
            "Epoch 82/100\n",
            "14/14 [==============================] - 0s 8ms/step - loss: 0.7539 - mean_squared_logarithmic_error: 0.7539 - val_loss: 0.8536 - val_mean_squared_logarithmic_error: 0.8536\n",
            "Epoch 83/100\n",
            "14/14 [==============================] - 0s 8ms/step - loss: 0.7520 - mean_squared_logarithmic_error: 0.7520 - val_loss: 0.8536 - val_mean_squared_logarithmic_error: 0.8536\n",
            "Epoch 84/100\n",
            "14/14 [==============================] - 0s 8ms/step - loss: 0.7504 - mean_squared_logarithmic_error: 0.7504 - val_loss: 0.8533 - val_mean_squared_logarithmic_error: 0.8533\n",
            "Epoch 85/100\n",
            "14/14 [==============================] - 0s 7ms/step - loss: 0.7475 - mean_squared_logarithmic_error: 0.7475 - val_loss: 0.8540 - val_mean_squared_logarithmic_error: 0.8540\n",
            "Epoch 86/100\n",
            "14/14 [==============================] - 0s 8ms/step - loss: 0.7457 - mean_squared_logarithmic_error: 0.7457 - val_loss: 0.8539 - val_mean_squared_logarithmic_error: 0.8539\n",
            "Epoch 87/100\n",
            "14/14 [==============================] - 0s 8ms/step - loss: 0.7445 - mean_squared_logarithmic_error: 0.7445 - val_loss: 0.8549 - val_mean_squared_logarithmic_error: 0.8549\n",
            "Epoch 88/100\n",
            "14/14 [==============================] - 0s 7ms/step - loss: 0.7420 - mean_squared_logarithmic_error: 0.7420 - val_loss: 0.8541 - val_mean_squared_logarithmic_error: 0.8541\n",
            "Epoch 89/100\n",
            "14/14 [==============================] - 0s 8ms/step - loss: 0.7404 - mean_squared_logarithmic_error: 0.7404 - val_loss: 0.8534 - val_mean_squared_logarithmic_error: 0.8534\n",
            "Epoch 90/100\n",
            "14/14 [==============================] - 0s 9ms/step - loss: 0.7382 - mean_squared_logarithmic_error: 0.7382 - val_loss: 0.8541 - val_mean_squared_logarithmic_error: 0.8541\n",
            "Epoch 91/100\n",
            "14/14 [==============================] - 0s 9ms/step - loss: 0.7366 - mean_squared_logarithmic_error: 0.7366 - val_loss: 0.8530 - val_mean_squared_logarithmic_error: 0.8530\n",
            "Epoch 92/100\n",
            "14/14 [==============================] - 0s 8ms/step - loss: 0.7343 - mean_squared_logarithmic_error: 0.7343 - val_loss: 0.8536 - val_mean_squared_logarithmic_error: 0.8536\n",
            "Epoch 93/100\n",
            "14/14 [==============================] - 0s 8ms/step - loss: 0.7328 - mean_squared_logarithmic_error: 0.7328 - val_loss: 0.8541 - val_mean_squared_logarithmic_error: 0.8541\n",
            "Epoch 94/100\n",
            "14/14 [==============================] - 0s 10ms/step - loss: 0.7308 - mean_squared_logarithmic_error: 0.7308 - val_loss: 0.8539 - val_mean_squared_logarithmic_error: 0.8539\n",
            "Epoch 95/100\n",
            "14/14 [==============================] - 0s 10ms/step - loss: 0.7288 - mean_squared_logarithmic_error: 0.7288 - val_loss: 0.8534 - val_mean_squared_logarithmic_error: 0.8534\n",
            "Epoch 96/100\n",
            "14/14 [==============================] - 0s 8ms/step - loss: 0.7275 - mean_squared_logarithmic_error: 0.7275 - val_loss: 0.8548 - val_mean_squared_logarithmic_error: 0.8548\n",
            "Epoch 97/100\n",
            "14/14 [==============================] - 0s 9ms/step - loss: 0.7253 - mean_squared_logarithmic_error: 0.7253 - val_loss: 0.8545 - val_mean_squared_logarithmic_error: 0.8545\n",
            "Epoch 98/100\n",
            "14/14 [==============================] - 0s 8ms/step - loss: 0.7235 - mean_squared_logarithmic_error: 0.7235 - val_loss: 0.8536 - val_mean_squared_logarithmic_error: 0.8536\n",
            "Epoch 99/100\n",
            "14/14 [==============================] - 0s 8ms/step - loss: 0.7212 - mean_squared_logarithmic_error: 0.7212 - val_loss: 0.8537 - val_mean_squared_logarithmic_error: 0.8537\n",
            "Epoch 100/100\n",
            "14/14 [==============================] - 0s 9ms/step - loss: 0.7192 - mean_squared_logarithmic_error: 0.7192 - val_loss: 0.8533 - val_mean_squared_logarithmic_error: 0.8533\n"
          ]
        },
        {
          "output_type": "execute_result",
          "data": {
            "text/plain": [
              "<tensorflow.python.keras.callbacks.History at 0x296792c7b50>"
            ]
          },
          "metadata": {},
          "execution_count": 57
        }
      ]
    },
    {
      "cell_type": "code",
      "execution_count": null,
      "metadata": {},
      "outputs": [],
      "source": []
    }
  ]
}